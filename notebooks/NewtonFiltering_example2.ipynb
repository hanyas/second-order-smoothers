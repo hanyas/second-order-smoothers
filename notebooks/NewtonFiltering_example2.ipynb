{
 "cells": [
  {
   "cell_type": "code",
   "execution_count": 1,
   "metadata": {
    "scrolled": true,
    "pycharm": {
     "name": "#%%\n"
    }
   },
   "outputs": [],
   "source": [
    "import jax\n",
    "import jax.numpy as jnp\n",
    "\n",
    "jax.config.update(\"jax_enable_x64\", True)\n",
    "\n",
    "from parsmooth._base import MVNStandard, FunctionalModel\n",
    "from parsmooth.linearization import extended, extended_hessian\n",
    "from parsmooth.sequential._filtering import filtering\n",
    "from parsmooth.sequential._filtering_Newton import filtering as newton_filtering\n",
    "from bearing_data import get_data, make_parameters"
   ]
  },
  {
   "cell_type": "code",
   "execution_count": 7,
   "outputs": [],
   "source": [
    "s1 = jnp.array([-1.5, 0.5])  # First sensor location\n",
    "s2 = jnp.array([1., 1.])  # Second sensor location\n",
    "r = 0.5  # Observation noise (stddev)\n",
    "x0 = jnp.array([0.1, 0.2, 1, 0])  # initial true location\n",
    "dt = 0.01  # discretization time step\n",
    "qc = 0.01  # discretization noise\n",
    "qw = 0.1  # discretization noise\n",
    "\n",
    "T = 100\n",
    "_, true_states, ys = get_data(x0, dt, r, T, s1, s2)\n",
    "Q, R, observation_function, transition_function = make_parameters(qc, qw, r, dt, s1, s2)\n",
    "\n",
    "chol_Q = jnp.linalg.cholesky(Q)\n",
    "chol_R = jnp.linalg.cholesky(R)\n",
    "\n",
    "m0 = jnp.array([-4., -1., 2., 7., 3.])\n",
    "chol_P0 = jnp.eye(5)\n",
    "P0 = jnp.eye(5)\n",
    "\n",
    "init = MVNStandard(m0, P0)\n",
    "\n",
    "initial_states =  MVNStandard(jnp.repeat(jnp.array([[0., 0., 6., 4., 2.]]),T + 1, axis=0),\n",
    "                                                     jnp.repeat(jnp.eye(5).reshape(1, 5, 5), T + 1, axis=0))\n",
    "\n",
    "transition_model = FunctionalModel(transition_function, MVNStandard(jnp.zeros((5,)), Q))\n",
    "observation_model = FunctionalModel(observation_function, MVNStandard(jnp.zeros((2,)), R))"
   ],
   "metadata": {
    "collapsed": false,
    "pycharm": {
     "name": "#%%\n"
    }
   }
  },
  {
   "cell_type": "markdown",
   "source": [
    "## Filtering"
   ],
   "metadata": {
    "collapsed": false,
    "pycharm": {
     "name": "#%% md\n"
    }
   }
  },
  {
   "cell_type": "code",
   "execution_count": 8,
   "outputs": [],
   "source": [
    "filtered_states_newton = newton_filtering(ys, init, transition_model, observation_model, extended_hessian, None)\n"
   ],
   "metadata": {
    "collapsed": false,
    "pycharm": {
     "name": "#%%\n"
    }
   }
  },
  {
   "cell_type": "code",
   "execution_count": 4,
   "outputs": [
    {
     "data": {
      "text/plain": "DeviceArray([[-4., -1.,  2.,  7.,  3.],\n             [nan, nan, nan, nan, nan],\n             [nan, nan, nan, nan, nan],\n             [nan, nan, nan, nan, nan],\n             [nan, nan, nan, nan, nan],\n             [nan, nan, nan, nan, nan],\n             [nan, nan, nan, nan, nan],\n             [nan, nan, nan, nan, nan],\n             [nan, nan, nan, nan, nan],\n             [nan, nan, nan, nan, nan],\n             [nan, nan, nan, nan, nan],\n             [nan, nan, nan, nan, nan],\n             [nan, nan, nan, nan, nan],\n             [nan, nan, nan, nan, nan],\n             [nan, nan, nan, nan, nan],\n             [nan, nan, nan, nan, nan],\n             [nan, nan, nan, nan, nan],\n             [nan, nan, nan, nan, nan],\n             [nan, nan, nan, nan, nan],\n             [nan, nan, nan, nan, nan],\n             [nan, nan, nan, nan, nan],\n             [nan, nan, nan, nan, nan],\n             [nan, nan, nan, nan, nan],\n             [nan, nan, nan, nan, nan],\n             [nan, nan, nan, nan, nan],\n             [nan, nan, nan, nan, nan],\n             [nan, nan, nan, nan, nan],\n             [nan, nan, nan, nan, nan],\n             [nan, nan, nan, nan, nan],\n             [nan, nan, nan, nan, nan],\n             [nan, nan, nan, nan, nan],\n             [nan, nan, nan, nan, nan],\n             [nan, nan, nan, nan, nan],\n             [nan, nan, nan, nan, nan],\n             [nan, nan, nan, nan, nan],\n             [nan, nan, nan, nan, nan],\n             [nan, nan, nan, nan, nan],\n             [nan, nan, nan, nan, nan],\n             [nan, nan, nan, nan, nan],\n             [nan, nan, nan, nan, nan],\n             [nan, nan, nan, nan, nan],\n             [nan, nan, nan, nan, nan],\n             [nan, nan, nan, nan, nan],\n             [nan, nan, nan, nan, nan],\n             [nan, nan, nan, nan, nan],\n             [nan, nan, nan, nan, nan],\n             [nan, nan, nan, nan, nan],\n             [nan, nan, nan, nan, nan],\n             [nan, nan, nan, nan, nan],\n             [nan, nan, nan, nan, nan],\n             [nan, nan, nan, nan, nan],\n             [nan, nan, nan, nan, nan],\n             [nan, nan, nan, nan, nan],\n             [nan, nan, nan, nan, nan],\n             [nan, nan, nan, nan, nan],\n             [nan, nan, nan, nan, nan],\n             [nan, nan, nan, nan, nan],\n             [nan, nan, nan, nan, nan],\n             [nan, nan, nan, nan, nan],\n             [nan, nan, nan, nan, nan],\n             [nan, nan, nan, nan, nan],\n             [nan, nan, nan, nan, nan],\n             [nan, nan, nan, nan, nan],\n             [nan, nan, nan, nan, nan],\n             [nan, nan, nan, nan, nan],\n             [nan, nan, nan, nan, nan],\n             [nan, nan, nan, nan, nan],\n             [nan, nan, nan, nan, nan],\n             [nan, nan, nan, nan, nan],\n             [nan, nan, nan, nan, nan],\n             [nan, nan, nan, nan, nan],\n             [nan, nan, nan, nan, nan],\n             [nan, nan, nan, nan, nan],\n             [nan, nan, nan, nan, nan],\n             [nan, nan, nan, nan, nan],\n             [nan, nan, nan, nan, nan],\n             [nan, nan, nan, nan, nan],\n             [nan, nan, nan, nan, nan],\n             [nan, nan, nan, nan, nan],\n             [nan, nan, nan, nan, nan],\n             [nan, nan, nan, nan, nan],\n             [nan, nan, nan, nan, nan],\n             [nan, nan, nan, nan, nan],\n             [nan, nan, nan, nan, nan],\n             [nan, nan, nan, nan, nan],\n             [nan, nan, nan, nan, nan],\n             [nan, nan, nan, nan, nan],\n             [nan, nan, nan, nan, nan],\n             [nan, nan, nan, nan, nan],\n             [nan, nan, nan, nan, nan],\n             [nan, nan, nan, nan, nan],\n             [nan, nan, nan, nan, nan],\n             [nan, nan, nan, nan, nan],\n             [nan, nan, nan, nan, nan],\n             [nan, nan, nan, nan, nan],\n             [nan, nan, nan, nan, nan],\n             [nan, nan, nan, nan, nan],\n             [nan, nan, nan, nan, nan],\n             [nan, nan, nan, nan, nan],\n             [nan, nan, nan, nan, nan],\n             [nan, nan, nan, nan, nan]], dtype=float64)"
     },
     "execution_count": 4,
     "metadata": {},
     "output_type": "execute_result"
    }
   ],
   "source": [
    "filtered_states_newton.mean"
   ],
   "metadata": {
    "collapsed": false,
    "pycharm": {
     "name": "#%%\n"
    }
   }
  },
  {
   "cell_type": "code",
   "execution_count": 9,
   "outputs": [],
   "source": [
    "#Filtering\n",
    "filtered_states = filtering(ys, init, transition_model, observation_model, extended, None)"
   ],
   "metadata": {
    "collapsed": false,
    "pycharm": {
     "name": "#%%\n"
    }
   }
  },
  {
   "cell_type": "code",
   "execution_count": 6,
   "outputs": [
    {
     "data": {
      "text/plain": "DeviceArray([[-4.00000000e+00, -1.00000000e+00,  2.00000000e+00,\n               7.00000000e+00,  3.00000000e+00],\n             [-3.07265175e+00, -2.44115914e+00,  2.21793626e+00,\n               6.92160731e+00,  3.00047690e+00],\n             [-1.50820964e+00, -2.86163659e+00,  2.45882339e+00,\n               6.83468557e+00,  3.00340659e+00],\n             [-5.48232115e-01, -2.38805164e+00,  2.69491171e+00,\n               6.76604894e+00,  3.00645173e+00],\n             [-7.32301385e-01, -1.94530646e+00,  2.88043015e+00,\n               6.70797080e+00,  3.00222677e+00],\n             [-3.36842418e-01, -1.50132977e+00,  3.10614497e+00,\n               6.63860412e+00,  3.00522196e+00],\n             [-4.06828549e-01, -1.35985233e+00,  3.28960280e+00,\n               6.55367583e+00,  3.00085316e+00],\n             [ 1.01957158e-01, -8.42702226e-01,  3.55875161e+00,\n               6.48437068e+00,  3.01530255e+00],\n             [ 8.32971509e-03, -5.17406640e-01,  3.71260084e+00,\n               6.42382067e+00,  2.99746482e+00],\n             [-1.68783303e-02,  1.10739290e-01,  3.86309860e+00,\n               6.42605660e+00,  2.96692394e+00],\n             [ 1.22441086e-01,  2.44841362e-01,  4.09314726e+00,\n               6.31346249e+00,  2.97845854e+00],\n             [ 3.42196040e-01,  1.08039556e-01,  4.39553832e+00,\n               6.08626243e+00,  3.03681470e+00],\n             [ 4.94032164e-01,  1.56992214e-01,  4.65746506e+00,\n               5.91465126e+00,  3.07021245e+00],\n             [ 6.51252158e-01,  3.26540563e-01,  4.91148618e+00,\n               5.80040642e+00,  3.08434161e+00],\n             [ 5.21487271e-01,  4.06204818e-01,  4.86760990e+00,\n               5.77596932e+00,  2.97805932e+00],\n             [ 6.64564343e-01,  3.49841350e-01,  5.24748872e+00,\n               5.40465728e+00,  3.11250893e+00],\n             [ 5.68504384e-01,  4.55783878e-01,  5.07372492e+00,\n               5.51495722e+00,  2.92035764e+00],\n             [ 7.47531717e-01,  5.56453214e-01,  5.49690355e+00,\n               5.23957026e+00,  3.03991028e+00],\n             [ 8.18146857e-01,  5.80372471e-01,  5.73903370e+00,\n               4.96447054e+00,  3.10046738e+00],\n             [ 9.86400070e-01,  6.44550442e-01,  6.26697287e+00,\n               4.50653720e+00,  3.30148091e+00],\n             [ 1.02995083e+00,  6.57535827e-01,  6.39110695e+00,\n               4.25536094e+00,  3.31038148e+00],\n             [ 9.61719149e-01,  5.35317179e-01,  6.19226606e+00,\n               3.94300579e+00,  3.25510783e+00],\n             [ 9.85898320e-01,  5.24081713e-01,  6.18695687e+00,\n               3.69916623e+00,  3.23546659e+00],\n             [ 1.03081979e+00,  5.34078851e-01,  6.23368062e+00,\n               3.46072111e+00,  3.23094299e+00],\n             [ 1.04234951e+00,  5.04633733e-01,  6.07422636e+00,\n               3.20313840e+00,  3.18779969e+00],\n             [ 1.04776920e+00,  4.59985441e-01,  5.85447828e+00,\n               2.89407703e+00,  3.15827436e+00],\n             [ 1.06652840e+00,  4.58619097e-01,  5.66889556e+00,\n               2.74115784e+00,  3.09143495e+00],\n             [ 1.11445950e+00,  4.51227134e-01,  5.70233655e+00,\n               2.42391961e+00,  3.13142300e+00],\n             [ 1.15881927e+00,  3.79640796e-01,  5.70850469e+00,\n               1.78556279e+00,  3.28005456e+00],\n             [ 1.19526930e+00,  4.87855647e-01,  5.60903334e+00,\n               2.16821720e+00,  3.05626644e+00],\n             [ 1.24164546e+00,  3.98572714e-01,  5.58347169e+00,\n               1.42893989e+00,  3.24184408e+00],\n             [ 1.29222723e+00,  3.58459566e-01,  5.56924738e+00,\n               9.70819663e-01,  3.33128585e+00],\n             [ 1.30527722e+00,  2.83343851e-01,  5.26780546e+00,\n               4.37665885e-01,  3.41688407e+00],\n             [ 1.30101970e+00,  1.94222689e-01,  4.84709597e+00,\n              -1.14901987e-01,  3.50760837e+00],\n             [ 1.31810343e+00,  9.99692737e-02,  4.56320674e+00,\n              -7.19247619e-01,  3.63897411e+00],\n             [ 1.34145577e+00,  5.65830247e-02,  4.36547648e+00,\n              -1.03267855e+00,  3.68116387e+00],\n             [ 1.36366489e+00, -6.88051488e-02,  4.06457117e+00,\n              -1.75865561e+00,  3.86838320e+00],\n             [ 1.38592360e+00, -1.93586849e-01,  3.74984235e+00,\n              -2.43614687e+00,  4.04459566e+00],\n             [ 1.37472476e+00, -2.18839019e-01,  3.39590370e+00,\n              -2.51758169e+00,  4.02101359e+00],\n             [ 1.36200927e+00, -1.88394768e-01,  3.15163523e+00,\n              -2.31436311e+00,  3.90815502e+00],\n             [ 1.31558153e+00, -2.25862700e-01,  2.65810759e+00,\n              -2.40435159e+00,  3.91263992e+00],\n             [ 1.27809881e+00, -2.51148212e-01,  2.26177291e+00,\n              -2.43482720e+00,  3.90558756e+00],\n             [ 1.28380763e+00, -4.13201081e-01,  1.82872489e+00,\n              -3.11419865e+00,  4.12581971e+00],\n             [ 1.26482251e+00, -3.44940712e-01,  1.73576603e+00,\n              -2.71923760e+00,  3.97120685e+00],\n             [ 1.23045206e+00, -3.64424518e-01,  1.42382292e+00,\n              -2.69829154e+00,  3.96602551e+00],\n             [ 1.20529229e+00, -8.54930183e-02,  1.79812583e+00,\n              -1.49896926e+00,  3.51677569e+00],\n             [ 1.16976871e+00, -1.52994427e-01,  1.41830768e+00,\n              -1.70641653e+00,  3.60763609e+00],\n             [ 1.12769000e+00, -9.07350045e-02,  1.30434937e+00,\n              -1.40813696e+00,  3.51404299e+00],\n             [ 1.09558522e+00, -1.91183897e-01,  8.97789931e-01,\n              -1.71342998e+00,  3.65040447e+00],\n             [ 1.08324481e+00, -2.70166373e-01,  6.23801731e-01,\n              -1.93383062e+00,  3.74231390e+00],\n             [ 1.01308571e+00, -4.15033542e-01,  2.35921987e-03,\n              -2.28882278e+00,  3.94280033e+00],\n             [ 9.54894719e-01, -2.45053792e-01,  1.23795633e-01,\n              -1.62992483e+00,  3.73062380e+00],\n             [ 9.85108194e-01, -4.14393755e-01, -1.66812878e-01,\n              -2.11805834e+00,  3.90090358e+00],\n             [ 9.67956453e-01, -4.31500390e-01, -2.92145635e-01,\n              -2.08275539e+00,  3.90538289e+00],\n             [ 9.41639303e-01, -3.20939476e-01, -1.63292785e-01,\n              -1.68981256e+00,  3.76944321e+00],\n             [ 9.05144409e-01, -3.67851315e-01, -4.05899587e-01,\n              -1.72231954e+00,  3.82644154e+00],\n             [ 8.76463471e-01, -5.13575816e-01, -8.29531856e-01,\n              -1.99539763e+00,  3.98216516e+00],\n             [ 8.08670044e-01, -5.43002026e-01, -1.11571250e+00,\n              -1.91482388e+00,  4.03607584e+00],\n             [ 7.58414099e-01, -5.00113461e-01, -1.17736045e+00,\n              -1.68409301e+00,  4.00374435e+00],\n             [ 6.96892094e-01, -5.49389506e-01, -1.46430418e+00,\n              -1.64316919e+00,  4.07480830e+00],\n             [ 6.91627855e-01, -5.45114765e-01, -1.45715990e+00,\n              -1.55386458e+00,  4.04773678e+00],\n             [ 6.85033247e-01, -5.14950860e-01, -1.39721284e+00,\n              -1.41866170e+00,  3.99979783e+00],\n             [ 6.69736867e-01, -5.17171073e-01, -1.43086626e+00,\n              -1.33922516e+00,  3.99056963e+00],\n             [ 6.87453330e-01, -4.29298499e-01, -1.17919953e+00,\n              -1.15528445e+00,  3.87768716e+00],\n             [ 6.63391086e-01, -2.81405153e-01, -9.22039309e-01,\n              -8.33507913e-01,  3.76132963e+00],\n             [ 6.33710638e-01, -4.54823906e-01, -1.34969819e+00,\n              -1.02243706e+00,  3.90681872e+00],\n             [ 5.35796575e-01, -4.63980187e-01, -1.60775545e+00,\n              -8.37732654e-01,  3.98616398e+00],\n             [ 5.18538881e-01, -3.41232091e-01, -1.37692437e+00,\n              -5.90256045e-01,  3.89572407e+00],\n             [ 5.71426514e-01, -5.38097617e-01, -1.61500614e+00,\n              -8.96521725e-01,  3.95719992e+00],\n             [ 6.12010149e-01, -4.88786311e-01, -1.39474965e+00,\n              -8.55252288e-01,  3.86357595e+00],\n             [ 5.64903114e-01, -5.02526352e-01, -1.51660066e+00,\n              -7.50479878e-01,  3.90043608e+00],\n             [ 5.98896843e-01, -4.22389167e-01, -1.25999162e+00,\n              -6.79577321e-01,  3.80021069e+00],\n             [ 7.03848899e-01, -3.96870690e-01, -9.53768786e-01,\n              -8.08653328e-01,  3.65980624e+00],\n             [ 6.02499873e-01, -4.97403327e-01, -1.36320578e+00,\n              -7.00157151e-01,  3.80317265e+00],\n             [ 6.81597051e-01, -4.67125991e-01, -1.11610407e+00,\n              -7.85261392e-01,  3.68608025e+00],\n             [ 6.84599350e-01, -4.89957467e-01, -1.14144021e+00,\n              -7.84946178e-01,  3.67696774e+00],\n             [ 6.79999206e-01, -5.61180149e-01, -1.27011363e+00,\n              -8.12627871e-01,  3.69424576e+00],\n             [ 7.44548993e-01, -4.90952000e-01, -1.00039991e+00,\n              -8.50809468e-01,  3.57998377e+00],\n             [ 7.48117977e-01, -4.99276140e-01, -1.00256534e+00,\n              -8.41865405e-01,  3.56451714e+00],\n             [ 6.98755058e-01, -4.77727702e-01, -1.05740733e+00,\n              -7.02651399e-01,  3.60055087e+00],\n             [ 7.27490544e-01, -4.68922681e-01, -9.79133941e-01,\n              -7.33259501e-01,  3.55131668e+00],\n             [ 7.79664776e-01, -4.09562182e-01, -7.74854767e-01,\n              -7.78385157e-01,  3.46496623e+00],\n             [ 8.23362609e-01, -3.61966166e-01, -6.13904564e-01,\n              -8.20251333e-01,  3.39472718e+00],\n             [ 8.04492401e-01, -3.58896792e-01, -6.45815799e-01,\n              -7.64415687e-01,  3.40791140e+00],\n             [ 7.79822482e-01, -3.75838487e-01, -7.18804542e-01,\n              -7.09532074e-01,  3.43036455e+00],\n             [ 7.67175484e-01, -3.37661585e-01, -6.79747615e-01,\n              -6.43101493e-01,  3.43336746e+00],\n             [ 8.19366215e-01, -3.50597396e-01, -6.11646650e-01,\n              -7.52942402e-01,  3.36275628e+00],\n             [ 9.12915274e-01, -2.87114975e-01, -3.60543473e-01,\n              -9.07328400e-01,  3.24223932e+00],\n             [ 8.57850361e-01, -3.41508909e-01, -5.43049130e-01,\n              -8.09487590e-01,  3.30291464e+00],\n             [ 8.79355854e-01, -2.99921635e-01, -4.51186334e-01,\n              -8.21297185e-01,  3.27338037e+00],\n             [ 8.37633320e-01, -3.28586021e-01, -5.66535813e-01,\n              -7.35062503e-01,  3.31655058e+00],\n             [ 8.22506594e-01, -3.26489456e-01, -5.91143008e-01,\n              -6.89145852e-01,  3.32931975e+00],\n             [ 8.75560319e-01, -2.77451223e-01, -4.44005036e-01,\n              -7.71069788e-01,  3.26644759e+00],\n             [ 8.37846202e-01, -3.15328384e-01, -5.61011723e-01,\n              -6.97695016e-01,  3.30094262e+00],\n             [ 8.72280074e-01, -2.92281683e-01, -4.83672514e-01,\n              -7.54268937e-01,  3.25869697e+00],\n             [ 8.65400883e-01, -3.14780620e-01, -5.31717446e-01,\n              -7.42287733e-01,  3.25682589e+00],\n             [ 9.46711902e-01, -2.85905333e-01, -3.86329627e-01,\n              -9.06529257e-01,  3.16083584e+00],\n             [ 9.44973013e-01, -2.98795265e-01, -4.17024952e-01,\n              -9.01407583e-01,  3.15665218e+00],\n             [ 9.46406671e-01, -3.08683822e-01, -4.38930643e-01,\n              -9.01871480e-01,  3.14916342e+00],\n             [ 8.83698252e-01, -3.91927483e-01, -6.41276160e-01,\n              -7.92510762e-01,  3.18983335e+00],\n             [ 8.88437925e-01, -4.20142091e-01, -6.78651850e-01,\n              -8.10191814e-01,  3.16654880e+00]], dtype=float64)"
     },
     "execution_count": 6,
     "metadata": {},
     "output_type": "execute_result"
    }
   ],
   "source": [
    "filtered_states.mean"
   ],
   "metadata": {
    "collapsed": false,
    "pycharm": {
     "name": "#%%\n"
    }
   }
  },
  {
   "cell_type": "code",
   "execution_count": 6,
   "outputs": [],
   "source": [],
   "metadata": {
    "collapsed": false,
    "pycharm": {
     "name": "#%%\n"
    }
   }
  }
 ],
 "metadata": {
  "kernelspec": {
   "display_name": "Python 3",
   "language": "python",
   "name": "python3"
  },
  "language_info": {
   "codemirror_mode": {
    "name": "ipython",
    "version": 3
   },
   "file_extension": ".py",
   "mimetype": "text/x-python",
   "name": "python",
   "nbconvert_exporter": "python",
   "pygments_lexer": "ipython3",
   "version": "3.8.8"
  }
 },
 "nbformat": 4,
 "nbformat_minor": 1
}