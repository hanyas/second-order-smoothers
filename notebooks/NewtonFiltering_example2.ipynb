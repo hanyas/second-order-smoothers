{
 "cells": [
  {
   "cell_type": "code",
   "execution_count": 1,
   "metadata": {
    "scrolled": true,
    "pycharm": {
     "name": "#%%\n"
    }
   },
   "outputs": [],
   "source": [
    "import jax\n",
    "import jax.numpy as jnp\n",
    "from jax import jacfwd, jacrev\n",
    "import matplotlib.pyplot as plt\n",
    "import jax.scipy.linalg as jlinalg\n",
    "\n",
    "jax.config.update(\"jax_enable_x64\", True)\n",
    "jax.config.update('jax_platform_name', 'cpu')\n",
    "\n",
    "from parsmooth import MVNStandard\n",
    "from parsmooth import FunctionalModel\n",
    "from parsmooth.sequential._filtering import filtering\n",
    "from parsmooth.linearization import extended, extended_hessian\n",
    "from parsmooth.sequential._filtering_Newton import filtering as newton_filtering\n",
    "from notebooks.bearing_data_pe import inverse_bearings\n",
    "from bearing_data import get_data, make_parameters"
   ]
  },
  {
   "cell_type": "code",
   "execution_count": 2,
   "outputs": [],
   "source": [
    "s1 = jnp.array([-1.5, 0.5])  # First sensor location\n",
    "s2 = jnp.array([1., 1.])  # Second sensor location\n",
    "r = 0.5  # Observation noise (stddev)\n",
    "x0 = jnp.array([0.1, 0.2, 1, 0])  # initial true location\n",
    "dt = 0.01  # discretization time step\n",
    "qc = 0.01  # discretization noise\n",
    "qw = 0.1  # discretization noise\n",
    "\n",
    "T = 100\n",
    "_, true_states, ys = get_data(x0, dt, r, T, s1, s2)\n",
    "Q, R, observation_function, transition_function = make_parameters(qc, qw, r, dt, s1, s2)\n",
    "\n",
    "chol_Q = jnp.linalg.cholesky(Q)\n",
    "chol_R = jnp.linalg.cholesky(R)\n",
    "\n",
    "m0 = jnp.array([-4., -1., 2., 7., 3.])\n",
    "chol_P0 = jnp.eye(5)\n",
    "P0 = jnp.eye(5)\n",
    "\n",
    "init = MVNStandard(m0, P0)\n",
    "\n",
    "# positions = inverse_bearings(ys, s1, s2)\n",
    "# states = jnp.concatenate([jnp.concatenate([jnp.zeros((1,2)), positions], axis = 0),\n",
    "#                           jnp.zeros((T+1,3))], axis = 1)\n",
    "#\n",
    "# initial_states =  MVNStandard(states,jnp.repeat(jnp.eye(5).reshape(1, 5, 5), T + 1, axis=0))\n",
    "\n",
    "\n",
    "initial_states =  MVNStandard(jnp.repeat(jnp.array([[0., 0., 2., 7., 3.]]),T + 1, axis=0),\n",
    "                                                     jnp.repeat(jnp.eye(5).reshape(1, 5, 5), T + 1, axis=0))\n",
    "\n",
    "transition_model = FunctionalModel(transition_function, MVNStandard(jnp.zeros((5,)), Q))\n",
    "observation_model = FunctionalModel(observation_function, MVNStandard(jnp.zeros((2,)), R))"
   ],
   "metadata": {
    "collapsed": false,
    "pycharm": {
     "name": "#%%\n"
    }
   }
  },
  {
   "cell_type": "markdown",
   "source": [
    " ### Filtering (Gauss-Newton)"
   ],
   "metadata": {
    "collapsed": false,
    "pycharm": {
     "name": "#%% md\n"
    }
   }
  },
  {
   "cell_type": "code",
   "execution_count": 4,
   "outputs": [],
   "source": [
    "#Filtering\n",
    "filtered_states = filtering(ys, init, transition_model, observation_model, extended, initial_states)"
   ],
   "metadata": {
    "collapsed": false,
    "pycharm": {
     "name": "#%%\n"
    }
   }
  },
  {
   "cell_type": "markdown",
   "source": [
    "### Batch solution"
   ],
   "metadata": {
    "collapsed": false,
    "pycharm": {
     "name": "#%% md\n"
    }
   }
  },
  {
   "cell_type": "code",
   "execution_count": 5,
   "outputs": [],
   "source": [
    "def mvn_loglikelihood(x, chol_cov):\n",
    "    \"\"\"multivariate normal\"\"\"\n",
    "    dim = chol_cov.shape[0]\n",
    "    y = jlinalg.solve_triangular(chol_cov, x, lower=True)\n",
    "    normalizing_constant = (\n",
    "            jnp.sum(jnp.log(jnp.abs(jnp.diag(chol_cov)))) + dim * jnp.log(2 * jnp.pi) / 2.0\n",
    "    )\n",
    "    norm_y = jnp.sum(y * y, -1)\n",
    "    return -0.5 * norm_y - normalizing_constant"
   ],
   "metadata": {
    "collapsed": false,
    "pycharm": {
     "name": "#%%\n"
    }
   }
  },
  {
   "cell_type": "code",
   "execution_count": 6,
   "outputs": [],
   "source": [
    "def LL(predict_trajectory, update_trajectory, z, measurement_fun, dynamic_fun, chol_Q, chol_R):\n",
    "    mp_nominal = predict_trajectory\n",
    "    mu_nominal = update_trajectory\n",
    "    cost = mvn_loglikelihood(mu_nominal - dynamic_fun(mp_nominal), chol_Q) + mvn_loglikelihood(z - measurement_fun(mu_nominal), chol_R)\n",
    "    return -cost\n",
    "\n",
    "def lost_function(x):\n",
    "    x0 = x[0]\n",
    "    predict_traj =x[:-1]\n",
    "    update_traj = x[1:]\n",
    "    vmapped_fun = jax.vmap(LL, in_axes=[0, 0, 0, None, None, None, None])\n",
    "    return jnp.sum(vmapped_fun(predict_traj, update_traj, ys, observation_function, transition_function, jnp.linalg.cholesky(Q), jnp.linalg.cholesky(R))) - mvn_loglikelihood(x0 - m0, jnp.linalg.cholesky(P0))\n"
   ],
   "metadata": {
    "collapsed": false,
    "pycharm": {
     "name": "#%%\n"
    }
   }
  },
  {
   "cell_type": "code",
   "execution_count": 7,
   "outputs": [],
   "source": [
    "grad = jax.grad(lost_function, argnums=0)(initial_states.mean)\n",
    "Hess = jacfwd(jacrev(lost_function))(initial_states.mean)\n",
    "\n",
    "x_batch = initial_states.mean - jax.numpy.linalg.tensorsolve(Hess, grad)"
   ],
   "metadata": {
    "collapsed": false,
    "pycharm": {
     "name": "#%%\n"
    }
   }
  },
  {
   "cell_type": "code",
   "execution_count": 7,
   "outputs": [],
   "source": [],
   "metadata": {
    "collapsed": false,
    "pycharm": {
     "name": "#%%\n"
    }
   }
  },
  {
   "cell_type": "code",
   "execution_count": 8,
   "outputs": [
    {
     "data": {
      "text/plain": "<Figure size 1080x720 with 1 Axes>",
      "image/png": "[encoded data removed]"
     },
     "metadata": {
      "needs_background": "light"
     },
     "output_type": "display_data"
    }
   ],
   "source": [
    "plt.figure(figsize=(15,10))\n",
    "# plt.plot(filtered_states_newton.mean, \"--\", label=\"Newton results\" )\n",
    "plt.plot(filtered_states.mean[:,0], \"*\", label = \"Gauss-Newton results\")\n",
    "plt.plot(x_batch[:,0], \".:\", label = \"batch results\")\n",
    "plt.title(\"Filtering result\")\n",
    "plt.grid()\n",
    "plt.legend();"
   ],
   "metadata": {
    "collapsed": false,
    "pycharm": {
     "name": "#%%\n"
    }
   }
  },
  {
   "cell_type": "markdown",
   "source": [
    "### Filtering (Newton)"
   ],
   "metadata": {
    "collapsed": false,
    "pycharm": {
     "name": "#%% md\n"
    }
   }
  },
  {
   "cell_type": "code",
   "execution_count": 9,
   "outputs": [],
   "source": [
    "filtered_states_newton = newton_filtering(ys, init, transition_model, observation_model, extended_hessian, initial_states)\n"
   ],
   "metadata": {
    "collapsed": false,
    "pycharm": {
     "name": "#%%\n"
    }
   }
  },
  {
   "cell_type": "code",
   "execution_count": 10,
   "outputs": [
    {
     "data": {
      "text/plain": "DeviceArray([[-4., -1.,  2.,  7.,  3.],\n             [nan, nan, nan, nan, nan],\n             [nan, nan, nan, nan, nan],\n             [nan, nan, nan, nan, nan],\n             [nan, nan, nan, nan, nan],\n             [nan, nan, nan, nan, nan],\n             [nan, nan, nan, nan, nan],\n             [nan, nan, nan, nan, nan],\n             [nan, nan, nan, nan, nan],\n             [nan, nan, nan, nan, nan],\n             [nan, nan, nan, nan, nan],\n             [nan, nan, nan, nan, nan],\n             [nan, nan, nan, nan, nan],\n             [nan, nan, nan, nan, nan],\n             [nan, nan, nan, nan, nan],\n             [nan, nan, nan, nan, nan],\n             [nan, nan, nan, nan, nan],\n             [nan, nan, nan, nan, nan],\n             [nan, nan, nan, nan, nan],\n             [nan, nan, nan, nan, nan],\n             [nan, nan, nan, nan, nan],\n             [nan, nan, nan, nan, nan],\n             [nan, nan, nan, nan, nan],\n             [nan, nan, nan, nan, nan],\n             [nan, nan, nan, nan, nan],\n             [nan, nan, nan, nan, nan],\n             [nan, nan, nan, nan, nan],\n             [nan, nan, nan, nan, nan],\n             [nan, nan, nan, nan, nan],\n             [nan, nan, nan, nan, nan],\n             [nan, nan, nan, nan, nan],\n             [nan, nan, nan, nan, nan],\n             [nan, nan, nan, nan, nan],\n             [nan, nan, nan, nan, nan],\n             [nan, nan, nan, nan, nan],\n             [nan, nan, nan, nan, nan],\n             [nan, nan, nan, nan, nan],\n             [nan, nan, nan, nan, nan],\n             [nan, nan, nan, nan, nan],\n             [nan, nan, nan, nan, nan],\n             [nan, nan, nan, nan, nan],\n             [nan, nan, nan, nan, nan],\n             [nan, nan, nan, nan, nan],\n             [nan, nan, nan, nan, nan],\n             [nan, nan, nan, nan, nan],\n             [nan, nan, nan, nan, nan],\n             [nan, nan, nan, nan, nan],\n             [nan, nan, nan, nan, nan],\n             [nan, nan, nan, nan, nan],\n             [nan, nan, nan, nan, nan],\n             [nan, nan, nan, nan, nan],\n             [nan, nan, nan, nan, nan],\n             [nan, nan, nan, nan, nan],\n             [nan, nan, nan, nan, nan],\n             [nan, nan, nan, nan, nan],\n             [nan, nan, nan, nan, nan],\n             [nan, nan, nan, nan, nan],\n             [nan, nan, nan, nan, nan],\n             [nan, nan, nan, nan, nan],\n             [nan, nan, nan, nan, nan],\n             [nan, nan, nan, nan, nan],\n             [nan, nan, nan, nan, nan],\n             [nan, nan, nan, nan, nan],\n             [nan, nan, nan, nan, nan],\n             [nan, nan, nan, nan, nan],\n             [nan, nan, nan, nan, nan],\n             [nan, nan, nan, nan, nan],\n             [nan, nan, nan, nan, nan],\n             [nan, nan, nan, nan, nan],\n             [nan, nan, nan, nan, nan],\n             [nan, nan, nan, nan, nan],\n             [nan, nan, nan, nan, nan],\n             [nan, nan, nan, nan, nan],\n             [nan, nan, nan, nan, nan],\n             [nan, nan, nan, nan, nan],\n             [nan, nan, nan, nan, nan],\n             [nan, nan, nan, nan, nan],\n             [nan, nan, nan, nan, nan],\n             [nan, nan, nan, nan, nan],\n             [nan, nan, nan, nan, nan],\n             [nan, nan, nan, nan, nan],\n             [nan, nan, nan, nan, nan],\n             [nan, nan, nan, nan, nan],\n             [nan, nan, nan, nan, nan],\n             [nan, nan, nan, nan, nan],\n             [nan, nan, nan, nan, nan],\n             [nan, nan, nan, nan, nan],\n             [nan, nan, nan, nan, nan],\n             [nan, nan, nan, nan, nan],\n             [nan, nan, nan, nan, nan],\n             [nan, nan, nan, nan, nan],\n             [nan, nan, nan, nan, nan],\n             [nan, nan, nan, nan, nan],\n             [nan, nan, nan, nan, nan],\n             [nan, nan, nan, nan, nan],\n             [nan, nan, nan, nan, nan],\n             [nan, nan, nan, nan, nan],\n             [nan, nan, nan, nan, nan],\n             [nan, nan, nan, nan, nan],\n             [nan, nan, nan, nan, nan],\n             [nan, nan, nan, nan, nan]], dtype=float64)"
     },
     "execution_count": 10,
     "metadata": {},
     "output_type": "execute_result"
    }
   ],
   "source": [
    "filtered_states_newton.mean"
   ],
   "metadata": {
    "collapsed": false,
    "pycharm": {
     "name": "#%%\n"
    }
   }
  },
  {
   "cell_type": "code",
   "execution_count": 10,
   "outputs": [],
   "source": [],
   "metadata": {
    "collapsed": false,
    "pycharm": {
     "name": "#%%\n"
    }
   }
  }
 ],
 "metadata": {
  "kernelspec": {
   "display_name": "Python 3",
   "language": "python",
   "name": "python3"
  },
  "language_info": {
   "codemirror_mode": {
    "name": "ipython",
    "version": 3
   },
   "file_extension": ".py",
   "mimetype": "text/x-python",
   "name": "python",
   "nbconvert_exporter": "python",
   "pygments_lexer": "ipython3",
   "version": "3.8.8"
  }
 },
 "nbformat": 4,
 "nbformat_minor": 1
}