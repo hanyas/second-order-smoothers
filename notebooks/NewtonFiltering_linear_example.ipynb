{
 "cells": [
  {
   "cell_type": "code",
   "execution_count": 1,
   "metadata": {
    "collapsed": true,
    "pycharm": {
     "name": "#%%\n"
    }
   },
   "outputs": [],
   "source": [
    "import jax\n",
    "import numpy as np\n",
    "import jax.numpy as jnp\n",
    "from functools import partial\n",
    "from jax import jacfwd, jacrev\n",
    "import matplotlib.pyplot as plt\n",
    "import jax.scipy.linalg as jlinalg\n",
    "\n",
    "jax.config.update(\"jax_enable_x64\", True)\n",
    "jax.config.update('jax_platform_name', 'cpu')\n",
    "\n",
    "from parsmooth import MVNStandard\n",
    "from parsmooth import FunctionalModel\n",
    "from parsmooth.sequential._filtering import filtering\n",
    "from parsmooth.sequential._smoothing import smoothing\n",
    "from parsmooth.linearization import extended, extended_hessian\n",
    "from parsmooth.sequential._filtering_Newton import filtering as newton_filtering\n",
    "from parsmooth.sequential._smoothing_Newton import smoothing as newton_smoothing"
   ]
  },
  {
   "cell_type": "code",
   "execution_count": 2,
   "outputs": [],
   "source": [
    "# Model parameters from \"Temporal parallelization of Bayesian smoothers\" paper.\n",
    "T = 2000\n",
    "\n",
    "dt = 0.1\n",
    "sigma = 0.5\n",
    "q = 1\n",
    "F = np.array ([[1, 0, dt, 0 ],\n",
    "               [0, 1, 0,  dt],\n",
    "               [0, 0, 1,  0 ],\n",
    "               [0, 0, 0,  1 ]])\n",
    "Q = q * np.array ([[dt**3/3,    0,         dt**2/2,   0      ],\n",
    "                   [0,          dt**3/3,   0,         dt**2/2],\n",
    "                   [dt**2/2,    0,         dt,        0      ],\n",
    "                   [0,          dt**2/2,   0,         dt     ]])\n",
    "H = np.array([[1, 0, 0, 0], [0, 1, 0, 0]])\n",
    "R = np.array([[sigma**2, 0],[0, sigma**2]])\n",
    "nx = Q.shape[0]\n",
    "ny = R.shape[1]\n",
    "\n",
    "m0 = np.array([0 , 0, 1., -1])\n",
    "P0 = np.eye(4)\n",
    "\n",
    "L0 = jlinalg.cholesky(P0, lower=True)\n",
    "x0 = m0 + L0 @ np.random.normal(size=(m0.shape))"
   ],
   "metadata": {
    "collapsed": false,
    "pycharm": {
     "name": "#%%\n"
    }
   }
  },
  {
   "cell_type": "code",
   "execution_count": 3,
   "outputs": [],
   "source": [
    "# Get data\n",
    "chol_Q = jlinalg.cholesky(Q, lower=True)\n",
    "chol_R = jlinalg.cholesky(R, lower=True)\n",
    "xs = np.zeros((T+1,nx))\n",
    "ys = np.zeros((T,ny))\n",
    "x = x0\n",
    "xs[0,:] = x0\n",
    "for k in range(T):\n",
    "    q_noise = chol_Q @ np.random.normal(size=(x.shape))\n",
    "    x = F @ x + q_noise\n",
    "    r_noise = chol_R @ np.random.normal(size=(ny,))\n",
    "    y = H @ x +  r_noise\n",
    "    xs[k+1,:] = x\n",
    "    ys[k,:] = y\n"
   ],
   "metadata": {
    "collapsed": false,
    "pycharm": {
     "name": "#%%\n"
    }
   }
  },
  {
   "cell_type": "code",
   "execution_count": 4,
   "outputs": [
    {
     "data": {
      "text/plain": "<Figure size 432x288 with 1 Axes>",
      "image/png": "[encoded data removed]"
     },
     "metadata": {
      "needs_background": "light"
     },
     "output_type": "display_data"
    }
   ],
   "source": [
    "plt.figure()\n",
    "plt.plot(xs[:,0][:100], xs[:,1][:100])\n",
    "plt.plot(ys[:,0][:100], ys[:,1][:100], \"o\");"
   ],
   "metadata": {
    "collapsed": false,
    "pycharm": {
     "name": "#%%\n"
    }
   }
  },
  {
   "cell_type": "markdown",
   "source": [
    "## Sequential solution"
   ],
   "metadata": {
    "collapsed": false,
    "pycharm": {
     "name": "#%% md\n"
    }
   }
  },
  {
   "cell_type": "code",
   "execution_count": 5,
   "outputs": [],
   "source": [
    "dynamic_model = lambda x: F @ x\n",
    "measurement_model = lambda x: H @ x"
   ],
   "metadata": {
    "collapsed": false,
    "pycharm": {
     "name": "#%%\n"
    }
   }
  },
  {
   "cell_type": "code",
   "execution_count": 6,
   "outputs": [],
   "source": [
    "init = MVNStandard(m0, P0)\n",
    "initial_states =  MVNStandard(jnp.zeros((T+1, nx)), jnp.repeat(jnp.eye(nx).reshape(1, nx, nx), T+1, axis=0))\n",
    "transition_model = FunctionalModel(partial(dynamic_model), MVNStandard(jnp.zeros((nx,)), Q))\n",
    "observation_model = FunctionalModel(partial(measurement_model), MVNStandard(jnp.zeros((ny,)), R))"
   ],
   "metadata": {
    "collapsed": false,
    "pycharm": {
     "name": "#%%\n"
    }
   }
  },
  {
   "cell_type": "markdown",
   "source": [
    "## Gauss-Newton"
   ],
   "metadata": {
    "collapsed": false,
    "pycharm": {
     "name": "#%% md\n"
    }
   }
  },
  {
   "cell_type": "code",
   "execution_count": 7,
   "outputs": [],
   "source": [
    "# Gauss-Newton\n",
    "filtered_states = filtering(ys, init, transition_model, observation_model, extended, initial_states)\n",
    "smoothed_results  = smoothing(transition_model, filtered_states, extended, initial_states)\n"
   ],
   "metadata": {
    "collapsed": false,
    "pycharm": {
     "name": "#%%\n"
    }
   }
  },
  {
   "cell_type": "markdown",
   "source": [
    "## Newton"
   ],
   "metadata": {
    "collapsed": false,
    "pycharm": {
     "name": "#%% md\n"
    }
   }
  },
  {
   "cell_type": "code",
   "execution_count": 8,
   "outputs": [],
   "source": [
    "# Filtering - Newton\n",
    "filtered_states_newton = newton_filtering(ys, init, transition_model, observation_model, extended_hessian, initial_states, True)\n",
    "# Smoothing - Newton\n",
    "smoothed_states_newton = newton_smoothing(transition_model, filtered_states_newton,  extended, initial_states)"
   ],
   "metadata": {
    "collapsed": false,
    "pycharm": {
     "name": "#%%\n"
    }
   }
  },
  {
   "cell_type": "markdown",
   "source": [
    "# Batch solution"
   ],
   "metadata": {
    "collapsed": false,
    "pycharm": {
     "name": "#%% md\n"
    }
   }
  },
  {
   "cell_type": "code",
   "execution_count": 9,
   "outputs": [],
   "source": [
    "def mvn_loglikelihood(x, chol_cov):\n",
    "    \"\"\"multivariate normal\"\"\"\n",
    "    dim = chol_cov.shape[0]\n",
    "    y = jlinalg.solve_triangular(chol_cov, x, lower=True)\n",
    "    normalizing_constant = (\n",
    "            jnp.sum(jnp.log(jnp.abs(jnp.diag(chol_cov)))) + dim * jnp.log(2 * jnp.pi) / 2.0\n",
    "    )\n",
    "    norm_y = jnp.sum(y * y, -1)\n",
    "    return -0.5 * norm_y - normalizing_constant\n",
    "\n",
    "def LL(predict_trajectory, update_trajectory, z, measurement_fun, dynamic_fun, chol_Q, chol_R):\n",
    "    mp_nominal = predict_trajectory\n",
    "    mu_nominal = update_trajectory\n",
    "    cost = mvn_loglikelihood(mu_nominal - dynamic_fun(mp_nominal), chol_Q) + mvn_loglikelihood(z - measurement_fun(mu_nominal), chol_R)\n",
    "    return -cost\n",
    "\n",
    "def state_space_cost(x):\n",
    "    x0 = x[0]\n",
    "    predict_traj =x[:-1]\n",
    "    update_traj = x[1:]\n",
    "    vmapped_fun = jax.vmap(LL, in_axes=[0, 0, 0, None, None, None, None])\n",
    "    return jnp.sum(vmapped_fun(predict_traj, update_traj, ys, measurement_model, dynamic_model, jnp.linalg.cholesky(Q), jnp.linalg.cholesky(R))) - mvn_loglikelihood(x0 - m0, jnp.linalg.cholesky(P0))\n",
    "\n",
    "grad = jax.grad(state_space_cost, argnums=0)(initial_states.mean)\n",
    "Hess = jacfwd(jacrev(state_space_cost))(initial_states.mean)\n",
    "x_batch = initial_states.mean - jax.numpy.linalg.tensorsolve(Hess, grad)"
   ],
   "metadata": {
    "collapsed": false,
    "pycharm": {
     "name": "#%%\n"
    }
   }
  },
  {
   "cell_type": "code",
   "execution_count": 10,
   "outputs": [],
   "source": [
    "grad_reshape = jnp.reshape(grad, newshape=(grad.shape[0]*grad.shape[1], 1))"
   ],
   "metadata": {
    "collapsed": false,
    "pycharm": {
     "name": "#%%\n"
    }
   }
  },
  {
   "cell_type": "code",
   "execution_count": 11,
   "outputs": [],
   "source": [
    "Hessian_reshape = jnp.reshape(Hess, newshape=(Hess.shape[0]*Hess.shape[1], Hess.shape[0]*Hess.shape[1]))"
   ],
   "metadata": {
    "collapsed": false,
    "pycharm": {
     "name": "#%%\n"
    }
   }
  },
  {
   "cell_type": "code",
   "execution_count": 12,
   "outputs": [],
   "source": [
    "def _first_H(_x, _P0, _f, _F, _Fxx, _Q):\n",
    "    _x0 = _x[0]\n",
    "    _x1 = _x[1]\n",
    "    inv_P0 = jnp.linalg.inv(_P0)\n",
    "    inv_Q = jnp.linalg.inv(_Q)\n",
    "    ddL_ddx0 = inv_P0 - jnp.tensordot(_Fxx(_x0).T, inv_Q @ (_x1 - _f(_x0)), axes=1) + _F(_x0).T @ inv_Q @ _F(_x0)\n",
    "    ddL_dx0dx1 = - _F(_x0).T @ inv_Q\n",
    "    return ddL_ddx0, ddL_dx0dx1\n",
    "\n",
    "\n",
    "def _middle_H(_x, _Q, _R, _f, _F, _Fxx, _h, _H, _Hxx, _y):\n",
    "    _x_k_1 = _x[0]\n",
    "    _x_k = _x[1]\n",
    "    _x_k_p_1 = _x[2]\n",
    "    inv_Q = jnp.linalg.inv(_Q)\n",
    "    inv_R = jnp.linalg.inv(_R)\n",
    "    one = - inv_Q @ _F(_x_k_1)\n",
    "    # two = inv_Q - _Hxx(_x_k).T @ inv_R @ (_y - _h(_x_k)) + _H(_x_k).T @ inv_R @ _H(_x_k)\n",
    "    two = inv_Q - jnp.tensordot(_Hxx(_x_k).T, inv_R @ (_y - _h(_x_k)), axes=1)  + _H(_x_k).T @ inv_R @ _H(_x_k) - jnp.tensordot(_Fxx(_x_k).T, inv_Q @ (_x_k_p_1 - _f(_x_k)), axes=1)  + _F(_x_k).T @ inv_Q @ _F(_x_k)\n",
    "    three = - _F(_x_k).T @ inv_Q\n",
    "    return one, two, three\n",
    "\n",
    "def _last_H(_x, _F, _Q, _h, _H, _Hxx, _R, _y):\n",
    "    x_N_1 = _x[0]\n",
    "    x_N = _x[1]\n",
    "    inv_Q = jnp.linalg.inv(_Q)\n",
    "    inv_R = jnp.linalg.inv(_R)\n",
    "    ddL_dxN_dxN_1 = - inv_Q @ _F(x_N_1)\n",
    "    ddL_ddxN = inv_Q - jnp.tensordot(_Hxx(x_N).T, inv_R @ (_y - _h(x_N)), axes=1) + _H(x_N).T @ inv_R @ _H(x_N)\n",
    "    return ddL_dxN_dxN_1, ddL_ddxN"
   ],
   "metadata": {
    "collapsed": false,
    "pycharm": {
     "name": "#%%\n"
    }
   }
  },
  {
   "cell_type": "code",
   "execution_count": 13,
   "outputs": [],
   "source": [
    "x_check_ = np.random.normal(size=(initial_states.mean.shape))\n",
    "observation_function_dxx = jacfwd(jacrev(measurement_model))\n",
    "transition_function_dxx = jacfwd(jacrev(dynamic_model))\n",
    "observation_function_dx = jacfwd(measurement_model)\n",
    "transition_function_dx = jacfwd(dynamic_model)\n",
    "Hess_test = jacfwd(jacrev(state_space_cost))(x_check_)"
   ],
   "metadata": {
    "collapsed": false,
    "pycharm": {
     "name": "#%%\n"
    }
   }
  },
  {
   "cell_type": "code",
   "execution_count": 14,
   "outputs": [],
   "source": [
    "i=10\n",
    "np.testing.assert_array_almost_equal(_middle_H(x_check_[i - 1:i + 2, :], Q, R, dynamic_model, transition_function_dx, transition_function_dxx, measurement_model, observation_function_dx, observation_function_dxx, ys[i - 1])[1],\n",
    "                                     Hess_test[i,:,i,:], decimal=10)\n",
    "\n",
    "np.testing.assert_array_almost_equal(_middle_H(x_check_[i - 1:i + 2, :], Q, R, dynamic_model, transition_function_dx, transition_function_dxx, measurement_model, observation_function_dx, observation_function_dxx, ys[i - 1])[0],\n",
    "                                     Hess_test[i,:,i-1,:], decimal=10)\n",
    "np.testing.assert_array_almost_equal(_middle_H(x_check_[i - 1:i + 2, :], Q, R, dynamic_model, transition_function_dx, transition_function_dxx, measurement_model, observation_function_dx, observation_function_dxx, ys[i - 1])[2],\n",
    "                                     Hess_test[i,:,i + 1,:], decimal=10)"
   ],
   "metadata": {
    "collapsed": false,
    "pycharm": {
     "name": "#%%\n"
    }
   }
  },
  {
   "cell_type": "code",
   "execution_count": 14,
   "outputs": [],
   "source": [],
   "metadata": {
    "collapsed": false,
    "pycharm": {
     "name": "#%%\n"
    }
   }
  },
  {
   "cell_type": "code",
   "execution_count": 15,
   "outputs": [],
   "source": [
    "np.testing.assert_array_almost_equal(smoothed_states_newton.mean, x_batch, decimal=9)\n",
    "np.testing.assert_array_almost_equal(smoothed_results.mean, smoothed_states_newton.mean, decimal=9)\n"
   ],
   "metadata": {
    "collapsed": false,
    "pycharm": {
     "name": "#%%\n"
    }
   }
  },
  {
   "cell_type": "code",
   "execution_count": 16,
   "outputs": [
    {
     "data": {
      "text/plain": "<Figure size 1080x720 with 1 Axes>",
      "image/png": "[encoded data removed]"
     },
     "metadata": {
      "needs_background": "light"
     },
     "output_type": "display_data"
    }
   ],
   "source": [
    "plt.figure(figsize=(15,10))\n",
    "plt.plot(smoothed_states_newton.mean[:,0], smoothed_states_newton.mean[:,1], \"--\", label=\"Newton results\" )\n",
    "plt.plot(smoothed_results.mean[:,0], smoothed_results.mean[:,1], \"*\", label = \"Gauss-Newton results\")\n",
    "plt.plot(x_batch[:,0],x_batch[:,1], \".:\", label = \"batch results\")\n",
    "plt.title(\"Smoothing result\")\n",
    "plt.grid()\n",
    "plt.legend();"
   ],
   "metadata": {
    "collapsed": false,
    "pycharm": {
     "name": "#%%\n"
    }
   }
  },
  {
   "cell_type": "code",
   "execution_count": null,
   "outputs": [],
   "source": [],
   "metadata": {
    "collapsed": false,
    "pycharm": {
     "name": "#%%\n"
    }
   }
  }
 ],
 "metadata": {
  "kernelspec": {
   "display_name": "Python 3",
   "language": "python",
   "name": "python3"
  },
  "language_info": {
   "codemirror_mode": {
    "name": "ipython",
    "version": 2
   },
   "file_extension": ".py",
   "mimetype": "text/x-python",
   "name": "python",
   "nbconvert_exporter": "python",
   "pygments_lexer": "ipython2",
   "version": "2.7.6"
  }
 },
 "nbformat": 4,
 "nbformat_minor": 0
}