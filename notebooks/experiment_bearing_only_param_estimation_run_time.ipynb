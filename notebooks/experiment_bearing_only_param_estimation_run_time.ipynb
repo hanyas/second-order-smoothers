{
 "cells": [
  {
   "cell_type": "code",
   "execution_count": 1,
   "metadata": {
    "pycharm": {
     "name": "#%%\n"
    }
   },
   "outputs": [],
   "source": [
    "import jax\n",
    "import numpy as np\n",
    "import jax.numpy as jnp\n",
    "import scipy\n",
    "import time\n",
    "import pickle\n",
    "import pandas as pd\n",
    "from scipy.optimize import minimize\n",
    "\n",
    "import matplotlib.pyplot as plt\n",
    "\n",
    "jax.config.update(\"jax_enable_x64\", True)\n",
    "\n",
    "from parsmooth._base import MVNStandard, FunctionalModel, MVNSqrt\n",
    "from parsmooth.linearization import extended, cubature, unscented, gauss_hermite\n",
    "from parsmooth.methods import iterated_smoothing\n",
    "from bearing_data_pe import get_data, make_parameters, inverse_bearings\n",
    "\n",
    "\n",
    "import os\n",
    "os.environ[\"XLA_PYTHON_CLIENT_PREALLOCATE\"] = \"false\"  # add this\n",
    "os.environ[\"XLA_PYTHON_CLIENT_ALLOCATOR\"] = \"platform\"\n"
   ]
  },
  {
   "cell_type": "code",
   "execution_count": 8,
   "metadata": {
    "scrolled": true,
    "pycharm": {
     "name": "#%%\n"
    }
   },
   "outputs": [],
   "source": [
    "s1 = jnp.array([-1., 0.5])  # First sensor location\n",
    "s2 = jnp.array([1., 1.])  # Second sensor location\n",
    "x0 = jnp.array([0.1, 0.2, 1, 0])  # initial true location\n",
    "dt = 0.01  # discretization time step\n",
    "qc = 0.1  # discretization noise\n",
    "qw = 0.1  # discretization noise\n",
    "\n",
    "n_run = 10\n",
    "Ts = [1, 2, 4, 8, 16, 32, 64, 128, 256, 512, 1024, 2048, 4096]\n",
    "r_true = 0.05"
   ]
  },
  {
   "cell_type": "code",
   "execution_count": 3,
   "outputs": [],
   "source": [
    "# Data = []\n",
    "# for t, T in enumerate(Ts):\n",
    "#     data = []\n",
    "#     for i in range(n_run):\n",
    "#         _, _, ys = get_data(x0, dt, r_true, T, s1, s2)\n",
    "#         positions = inverse_bearings(ys, s1, s2)\n",
    "#         states = jnp.concatenate([jnp.concatenate([jnp.zeros((1,2)), positions], axis = 0),\n",
    "#                               jnp.zeros((T+1,3))], axis = 1)\n",
    "#\n",
    "#         initial_states =  MVNStandard(states,0.1*jnp.repeat(jnp.eye(5).reshape(1, 5, 5), T + 1, axis=0))\n",
    "#         initial_states_sqrt = MVNSqrt(states,jnp.sqrt(0.1)*jnp.repeat(jnp.eye(5).reshape(1, 5, 5), T + 1, axis=0))\n",
    "#         data.append({'ys': ys, 'initial_states': initial_states, 'initial_states_sqrt': initial_states_sqrt})\n",
    "#     Data.append(data)\n",
    "#\n",
    "#\n",
    "# with  open(\"outputs/ell-runtime-output/data.pkl\", \"wb\") as open_file:\n",
    "#     pickle.dump(Data, open_file)\n",
    "\n",
    "\n",
    "with open(\"outputs/ell-runtime-output/data.pkl\", \"rb\") as open_file:\n",
    "    Data = pickle.load(open_file)"
   ],
   "metadata": {
    "collapsed": false,
    "pycharm": {
     "name": "#%%\n"
    }
   }
  },
  {
   "cell_type": "code",
   "execution_count": 4,
   "outputs": [],
   "source": [
    "Q, _, observation_function, transition_function = make_parameters(qc, qw, r_true, dt, s1, s2)\n",
    "\n",
    "chol_Q = jnp.linalg.cholesky(Q)\n",
    "\n",
    "m0 = jnp.array([2., 0, 0, 0, 0])\n",
    "P0 = jnp.diag(jnp.array([0.5**2, 0.5**2, 0.5**2, 0.5**2, 1.]))\n",
    "chol_P0 = scipy.linalg.cholesky(P0)\n",
    "\n",
    "init = MVNStandard(m0, P0)\n",
    "chol_init = MVNSqrt(m0, chol_P0)\n",
    "\n",
    "\n",
    "sqrt_transition_model = FunctionalModel(transition_function, MVNSqrt(jnp.zeros((5,)), chol_Q))\n",
    "transition_model = FunctionalModel(transition_function, MVNStandard(jnp.zeros((5,)), Q))\n"
   ],
   "metadata": {
    "collapsed": false,
    "pycharm": {
     "name": "#%%\n"
    }
   }
  },
  {
   "cell_type": "code",
   "execution_count": 5,
   "outputs": [],
   "source": [
    "@jax.jit\n",
    "def runtime_get_ell_std_extended_par(observations, initial_points, iteration, prec_r):\n",
    "    r = 1 / prec_r[0]\n",
    "    R = jnp.diag(jnp.array([r ** 2, 0.1 ** 2]))\n",
    "    observation_model = FunctionalModel(observation_function, MVNStandard(jnp.zeros((2,)), R))\n",
    "\n",
    "    _, ell = iterated_smoothing(observations, init, transition_model, observation_model,\n",
    "                                               extended, initial_points, True,\n",
    "                                               criterion=lambda i, *_: i < iteration,\n",
    "                                               return_loglikelihood = True)\n",
    "    return -ell\n",
    "\n",
    "@jax.jit\n",
    "def runtime_get_ell_std_cubature_par(observations, initial_points, iteration, prec_r):\n",
    "    r = 1 / prec_r[0]\n",
    "    R = jnp.diag(jnp.array([r ** 2, 0.1 ** 2]))\n",
    "    observation_model = FunctionalModel(observation_function, MVNStandard(jnp.zeros((2,)), R))\n",
    "\n",
    "    _, ell = iterated_smoothing(observations, init, transition_model, observation_model,\n",
    "                                               cubature, initial_points, True,\n",
    "                                               criterion=lambda i, *_: i < iteration,\n",
    "                                               return_loglikelihood = True)\n",
    "    return -ell\n",
    "\n",
    "@jax.jit\n",
    "def runtime_get_ell_std_unscented_par(observations, initial_points, iteration, prec_r):\n",
    "    r = 1 / prec_r[0]\n",
    "    R = jnp.diag(jnp.array([r ** 2, 0.1 ** 2]))\n",
    "    observation_model = FunctionalModel(observation_function, MVNStandard(jnp.zeros((2,)), R))\n",
    "\n",
    "    _, ell = iterated_smoothing(observations, init, transition_model, observation_model,\n",
    "                                               unscented, initial_points, True,\n",
    "                                               criterion=lambda i, *_: i < iteration,\n",
    "                                               return_loglikelihood = True)\n",
    "    return -ell\n",
    "\n",
    "@jax.jit\n",
    "def runtime_get_ell_std_gh_par(observations, initial_points, iteration, prec_r):\n",
    "    r = 1 / prec_r[0]\n",
    "    R = jnp.diag(jnp.array([r ** 2, 0.1 ** 2]))\n",
    "    observation_model = FunctionalModel(observation_function, MVNStandard(jnp.zeros((2,)), R))\n",
    "\n",
    "    _, ell = iterated_smoothing(observations, init, transition_model, observation_model,\n",
    "                                               gauss_hermite, initial_points, True,\n",
    "                                               criterion=lambda i, *_: i < iteration,\n",
    "                                               return_loglikelihood = True)\n",
    "    return -ell\n",
    "\n",
    "@jax.jit\n",
    "def runtime_get_ell_std_extended_seq(observations, initial_points, iteration, prec_r):\n",
    "    r = 1 / prec_r[0]\n",
    "    R = jnp.diag(jnp.array([r ** 2, 0.1 ** 2]))\n",
    "    observation_model = FunctionalModel(observation_function, MVNStandard(jnp.zeros((2,)), R))\n",
    "\n",
    "    _, ell = iterated_smoothing(observations, init, transition_model, observation_model,\n",
    "                                               extended, initial_points, False,\n",
    "                                               criterion=lambda i, *_: i < iteration,\n",
    "                                               return_loglikelihood = True)\n",
    "    return -ell\n",
    "\n",
    "@jax.jit\n",
    "def runtime_get_ell_std_cubature_seq(observations, initial_points, iteration, prec_r):\n",
    "    r = 1 / prec_r[0]\n",
    "    R = jnp.diag(jnp.array([r ** 2, 0.1 ** 2]))\n",
    "    observation_model = FunctionalModel(observation_function, MVNStandard(jnp.zeros((2,)), R))\n",
    "\n",
    "    _, ell = iterated_smoothing(observations, init, transition_model, observation_model,\n",
    "                                               cubature, initial_points, False,\n",
    "                                               criterion=lambda i, *_: i < iteration,\n",
    "                                               return_loglikelihood = True)\n",
    "    return -ell\n",
    "\n",
    "@jax.jit\n",
    "def runtime_get_ell_std_unscented_seq(observations, initial_points, iteration, prec_r):\n",
    "    r = 1 / prec_r[0]\n",
    "    R = jnp.diag(jnp.array([r ** 2, 0.1 ** 2]))\n",
    "    observation_model = FunctionalModel(observation_function, MVNStandard(jnp.zeros((2,)), R))\n",
    "\n",
    "    _, ell = iterated_smoothing(observations, init, transition_model, observation_model,\n",
    "                                               unscented, initial_points, False,\n",
    "                                               criterion=lambda i, *_: i < iteration,\n",
    "                                               return_loglikelihood = True)\n",
    "    return -ell\n",
    "\n",
    "@jax.jit\n",
    "def runtime_get_ell_std_gh_seq(observations, initial_points, iteration, prec_r):\n",
    "    r = 1 / prec_r[0]\n",
    "    R = jnp.diag(jnp.array([r ** 2, 0.1 ** 2]))\n",
    "    observation_model = FunctionalModel(observation_function, MVNStandard(jnp.zeros((2,)), R))\n",
    "\n",
    "    _, ell = iterated_smoothing(observations, init, transition_model, observation_model,\n",
    "                                               gauss_hermite, initial_points, False,\n",
    "                                               criterion=lambda i, *_: i < iteration,\n",
    "                                               return_loglikelihood = True)\n",
    "    return -ell"
   ],
   "metadata": {
    "collapsed": false,
    "pycharm": {
     "name": "#%%\n"
    }
   }
  },
  {
   "cell_type": "code",
   "execution_count": 6,
   "outputs": [],
   "source": [
    "#parallel\n",
    "def func(method, lengths, data, n_runs=5, n_iter=15, sqrt=False, mth='extended-std-par'):\n",
    "    SdR11s = []\n",
    "    Times = []\n",
    "    for t, _ in enumerate(lengths):\n",
    "        print(f\"Length {t+1} out of {len(lengths)}\")\n",
    "        sdR11_res = []\n",
    "        run_times = []\n",
    "        for i in range(n_runs):\n",
    "            observations_slice = data[t][i]['ys']\n",
    "            if sqrt:\n",
    "                init_linearizations_states = data[t][i]['initial_states_sqrt']\n",
    "                args = observations_slice, init_linearizations_states, n_iter\n",
    "            else:\n",
    "                init_linearizations_states = data[t][i]['initial_states']\n",
    "                args = observations_slice, init_linearizations_states, n_iter\n",
    "            r0 = np.array([10.])\n",
    "            method_res = lambda r: method(*args,r)\n",
    "            grad_func= jax.jit(jax.value_and_grad(method_res))\n",
    "            gpu_grad_func = jax.jit(grad_func, backend=\"gpu\")\n",
    "            def wrap_func(r):\n",
    "                loss, grad_val = gpu_grad_func(r)\n",
    "                return np.array(loss, dtype=np.float64), np.array(grad_val, dtype=np.float64)\n",
    "            tic = time.time()\n",
    "            sdR11 = minimize(wrap_func, r0, jac=True, method=\"L-BFGS-B\", bounds=[(0, 100)]).x\n",
    "            toc = time.time()\n",
    "            run_times.append(toc - tic)\n",
    "            sdR11_res.append(sdR11)\n",
    "            print(f\"run {i+1} out of {n_runs}\", end=\"\\r\")\n",
    "        SdR11s.append(sdR11_res)\n",
    "        Times.append(run_times)\n",
    "        np.savez(\"outputs/ell-runtime-output/TIME-GPU-\"+mth+\"-\"+str(t), time = np.array(run_times) )\n",
    "        np.savez(\"outputs/ell-runtime-output/sdR11-GPU-\"+mth+\"-\"+str(t), sdR11 = np.array(sdR11_res) )\n",
    "    print()\n",
    "\n",
    "    return np.array(Times), np.array(SdR11s)\n"
   ],
   "metadata": {
    "collapsed": false,
    "pycharm": {
     "name": "#%%\n"
    }
   }
  },
  {
   "cell_type": "code",
   "execution_count": 12,
   "outputs": [
    {
     "name": "stdout",
     "output_type": "stream",
     "text": [
      "Length 11 out of 3\n",
      "Length 12 out of 3\n",
      "Length 13 out of 3\n",
      "run 10 out of 10\r\n"
     ]
    }
   ],
   "source": [
    "# time_gpu_extended_std_par, sd_gpu_extended_std_par= func(runtime_get_ell_std_extended_par, Ts, Data, n_run,sqrt=False, mth='extended-std-par')\n",
    "# np.savez(\"outputs/ell-runtime-output/TIME-GPU-extended-std-par\",\n",
    "#           time_gpu_extended_std_par = time_gpu_extended_std_par)\n",
    "# np.savez(\"outputs/ell-runtime-output/sdR11-GPU-extended-std-par\",\n",
    "#           sd_gpu_extended_std_par = sd_gpu_extended_std_par)"
   ],
   "metadata": {
    "collapsed": false,
    "pycharm": {
     "name": "#%%\n"
    }
   }
  },
  {
   "cell_type": "code",
   "execution_count": null,
   "outputs": [],
   "source": [
    "# Parallel other Methods"
   ],
   "metadata": {
    "collapsed": false,
    "pycharm": {
     "name": "#%%\n"
    }
   }
  },
  {
   "cell_type": "code",
   "execution_count": 7,
   "outputs": [
    {
     "name": "stdout",
     "output_type": "stream",
     "text": [
      "Length 1 out of 13\n",
      "Length 2 out of 13\n",
      "Length 3 out of 13\n",
      "Length 4 out of 13\n",
      "Length 5 out of 13\n",
      "Length 6 out of 13\n",
      "Length 7 out of 13\n",
      "Length 8 out of 13\n",
      "Length 9 out of 13\n",
      "Length 10 out of 13\n",
      "Length 11 out of 13\n",
      "Length 12 out of 13\n",
      "Length 13 out of 13\n",
      "run 10 out of 10\r\n"
     ]
    }
   ],
   "source": [
    "# time_gpu_cubature_std_par, sd_gpu_cubature_std_par= func(runtime_get_ell_std_cubature_par, Ts, Data, n_run,sqrt=False, mth='cubature-std-par')\n",
    "# np.savez(\"outputs/ell-runtime-output/TIME-GPU-cubature-std-par\",\n",
    "#           time_gpu_cubature_std_par = time_gpu_cubature_std_par)\n",
    "# np.savez(\"outputs/ell-runtime-output/sdR11-GPU-cubature-std-par\",\n",
    "#           sd_gpu_cubature_std_par = sd_gpu_cubature_std_par)"
   ],
   "metadata": {
    "collapsed": false,
    "pycharm": {
     "name": "#%%\n"
    }
   }
  },
  {
   "cell_type": "code",
   "execution_count": 7,
   "outputs": [
    {
     "name": "stdout",
     "output_type": "stream",
     "text": [
      "Length 1 out of 13\n",
      "Length 2 out of 13\n",
      "Length 3 out of 13\n",
      "Length 4 out of 13\n",
      "Length 5 out of 13\n",
      "Length 6 out of 13\n",
      "Length 7 out of 13\n",
      "Length 8 out of 13\n",
      "Length 9 out of 13\n",
      "Length 10 out of 13\n",
      "Length 11 out of 13\n",
      "Length 12 out of 13\n",
      "Length 13 out of 13\n",
      "run 10 out of 10\r\n"
     ]
    }
   ],
   "source": [
    "# time_gpu_unscented_std_par, sd_gpu_unscented_std_par= func(runtime_get_ell_std_unscented_par, Ts, Data, n_run,sqrt=False, mth='unscented-std-par')\n",
    "# np.savez(\"outputs/ell-runtime-output/TIME-GPU-unscented-std-par\",\n",
    "#           time_gpu_unscented_std_par = time_gpu_unscented_std_par)\n",
    "# np.savez(\"outputs/ell-runtime-output/sdR11-GPU-unscented-std-par\",\n",
    "#           sd_gpu_unscented_std_par = sd_gpu_unscented_std_par)"
   ],
   "metadata": {
    "collapsed": false,
    "pycharm": {
     "name": "#%%\n"
    }
   }
  },
  {
   "cell_type": "code",
   "execution_count": 7,
   "outputs": [
    {
     "name": "stdout",
     "output_type": "stream",
     "text": [
      "Length 1 out of 13\n",
      "Length 2 out of 13\n",
      "Length 3 out of 13\n",
      "Length 4 out of 13\n",
      "Length 5 out of 13\n",
      "Length 6 out of 13\n",
      "Length 7 out of 13\n",
      "Length 8 out of 13\n",
      "Length 9 out of 13\n",
      "Length 10 out of 13\n",
      "Length 11 out of 13\n",
      "Length 12 out of 13\n",
      "Length 13 out of 13\n",
      "run 10 out of 10\r\n"
     ]
    }
   ],
   "source": [
    "# time_gpu_gh_std_par, sd_gpu_gh_std_par= func(runtime_get_ell_std_gh_par, Ts, Data, n_run,sqrt=False, mth='gh-std-par')\n",
    "# np.savez(\"outputs/ell-runtime-output/TIME-GPU-gh-std-par\",\n",
    "#           time_gpu_gh_std_par = time_gpu_gh_std_par)\n",
    "# np.savez(\"outputs/ell-runtime-output/sdR11-GPU-gh-std-par\",\n",
    "#           sd_gpu_gh_std_par = sd_gpu_gh_std_par)"
   ],
   "metadata": {
    "collapsed": false,
    "pycharm": {
     "name": "#%%\n"
    }
   }
  },
  {
   "cell_type": "code",
   "execution_count": null,
   "outputs": [],
   "source": [
    "# Sequential"
   ],
   "metadata": {
    "collapsed": false,
    "pycharm": {
     "name": "#%%\n"
    }
   }
  },
  {
   "cell_type": "code",
   "execution_count": 7,
   "outputs": [
    {
     "name": "stdout",
     "output_type": "stream",
     "text": [
      "Length 1 out of 13\n",
      "Length 2 out of 13\n",
      "Length 3 out of 13\n",
      "Length 4 out of 13\n",
      "Length 5 out of 13\n",
      "Length 6 out of 13\n",
      "Length 7 out of 13\n",
      "Length 8 out of 13\n",
      "Length 9 out of 13\n",
      "Length 10 out of 13\n",
      "Length 11 out of 13\n",
      "Length 12 out of 13\n",
      "Length 13 out of 13\n",
      "run 10 out of 10\r\n"
     ]
    }
   ],
   "source": [
    "# time_gpu_cubature_std_seq, sd_gpu_cubature_std_seq= func(runtime_get_ell_std_cubature_seq, Ts, Data, n_run, sqrt=False, mth='cubature-std-seq')\n",
    "# np.savez(\"outputs/ell-runtime-output/TIME-GPU-cubature-std-seq\",\n",
    "#           time_gpu_cubature_std_seq = time_gpu_cubature_std_seq)\n",
    "# np.savez(\"outputs/ell-runtime-output/sdR11-GPU-cubature-std-seq\",\n",
    "#           sd_gpu_cubature_std_seq = sd_gpu_cubature_std_seq)"
   ],
   "metadata": {
    "collapsed": false,
    "pycharm": {
     "name": "#%%\n"
    }
   }
  },
  {
   "cell_type": "code",
   "execution_count": 7,
   "outputs": [
    {
     "name": "stdout",
     "output_type": "stream",
     "text": [
      "Length 1 out of 13\n",
      "Length 2 out of 13\n",
      "Length 3 out of 13\n",
      "Length 4 out of 13\n",
      "Length 5 out of 13\n",
      "Length 6 out of 13\n",
      "Length 7 out of 13\n",
      "Length 8 out of 13\n",
      "Length 9 out of 13\n",
      "Length 10 out of 13\n",
      "Length 11 out of 13\n",
      "Length 12 out of 13\n",
      "Length 13 out of 13\n",
      "run 10 out of 10\r\n"
     ]
    }
   ],
   "source": [
    "# time_gpu_unscented_std_seq, sd_gpu_unscented_std_seq= func(runtime_get_ell_std_unscented_seq, Ts, Data, n_run, sqrt=False, mth='unscented-std-seq')\n",
    "# np.savez(\"outputs/ell-runtime-output/TIME-GPU-unscented-std-seq\",\n",
    "#           time_gpu_unscented_std_seq = time_gpu_unscented_std_seq)\n",
    "# np.savez(\"outputs/ell-runtime-output/sdR11-GPU-unscented-std-seq\",\n",
    "#           sd_gpu_unscented_std_seq = sd_gpu_unscented_std_seq)"
   ],
   "metadata": {
    "collapsed": false,
    "pycharm": {
     "name": "#%%\n"
    }
   }
  },
  {
   "cell_type": "code",
   "execution_count": 7,
   "outputs": [
    {
     "name": "stdout",
     "output_type": "stream",
     "text": [
      "Length 1 out of 13\n",
      "Length 2 out of 13\n",
      "Length 3 out of 13\n",
      "Length 4 out of 13\n",
      "Length 5 out of 13\n",
      "Length 6 out of 13\n",
      "Length 7 out of 13\n",
      "Length 8 out of 13\n",
      "Length 9 out of 13\n",
      "Length 10 out of 13\n",
      "Length 11 out of 13\n",
      "Length 12 out of 13\n",
      "Length 13 out of 13\n",
      "run 10 out of 10\r\n"
     ]
    }
   ],
   "source": [
    "# time_gpu_gh_std_seq, sd_gpu_gh_std_seq= func(runtime_get_ell_std_gh_seq, Ts, Data, n_run, sqrt=False, mth='gh-std-seq')\n",
    "# np.savez(\"outputs/ell-runtime-output/TIME-GPU-gh-std-seq\",\n",
    "#           time_gpu_gh_std_seq = time_gpu_gh_std_seq)\n",
    "# np.savez(\"outputs/ell-runtime-output/sdR11-GPU-gh-std-seq\",\n",
    "#           sd_gpu_gh_std_seq = sd_gpu_gh_std_seq)"
   ],
   "metadata": {
    "collapsed": false,
    "pycharm": {
     "name": "#%%\n"
    }
   }
  },
  {
   "cell_type": "code",
   "execution_count": 52,
   "outputs": [
    {
     "name": "stdout",
     "output_type": "stream",
     "text": [
      "Length 12 out of 2\n",
      "Length 13 out of 2\n",
      "run 10 out of 10\r\n"
     ]
    }
   ],
   "source": [
    "# time_gpu_extended_std_seq, sd_gpu_extended_std_seq= func(runtime_get_ell_std_extended_seq, Ts, Data, n_run, sqrt=False, mth='extended-std-seq')\n",
    "# np.savez(\"outputs/ell-runtime-output/TIME-GPU-extended-std-seq\",\n",
    "#           time_gpu_extended_std_seq = time_gpu_extended_std_seq)\n",
    "# np.savez(\"outputs/ell-runtime-output/sdR11-GPU-extended-std-seq\",\n",
    "#           sd_gpu_extended_std_seq = sd_gpu_extended_std_seq)"
   ],
   "metadata": {
    "collapsed": false,
    "pycharm": {
     "name": "#%%\n"
    }
   }
  },
  {
   "cell_type": "code",
   "execution_count": 53,
   "outputs": [],
   "source": [
    "mth='extended-std-seq'\n",
    "time_gpu_extended_std_seq = []\n",
    "sd_gpu_extended_std_seq = []\n",
    "for t in range(len(Ts)):\n",
    "    with np.load(\"outputs/ell-runtime-output/TIME-GPU-\"+mth+\"-\"+str(t)+\".npz\") as loaded:\n",
    "        time_gpu_extended_std_seq.append(loaded[\"time\"])\n",
    "    with np.load(\"outputs/ell-runtime-output/sdR11-GPU-\"+mth+\"-\"+str(t)+\".npz\") as loaded:\n",
    "        sd_gpu_extended_std_seq.append(loaded[\"sdR11\"])\n",
    "\n",
    "# np.savez(\"outputs/ell-runtime-output/TIME-GPU-extended-std-seq\",\n",
    "#           time_gpu_extended_std_seq = time_gpu_extended_std_seq)\n",
    "# np.savez(\"outputs/ell-runtime-output/sdR11-GPU-extended-std-seq\",\n",
    "#           sd_gpu_extended_std_seq = sd_gpu_extended_std_seq)"
   ],
   "metadata": {
    "collapsed": false,
    "pycharm": {
     "name": "#%%\n"
    }
   }
  },
  {
   "cell_type": "code",
   "execution_count": 2,
   "outputs": [],
   "source": [
    "with np.load(\"outputs/ell-runtime-output/TIME-GPU-extended-std-par.npz\") as loaded:\n",
    "    time_extended_par=np.mean(loaded[\"time_gpu_extended_std_par\"],axis=1)\n",
    "\n",
    "with np.load(\"outputs/ell-runtime-output/TIME-GPU-extended-std-seq.npz\") as loaded:\n",
    "    time_extended_seq=np.mean(loaded[\"time_gpu_extended_std_seq\"],axis=1)\n",
    "\n",
    "with np.load(\"outputs/ell-runtime-output/TIME-GPU-cubature-std-par.npz\") as loaded:\n",
    "    time_cubature_par=np.mean(loaded[\"time_gpu_cubature_std_par\"],axis=1)\n",
    "\n",
    "with np.load(\"outputs/ell-runtime-output/TIME-GPU-cubature-std-seq.npz\") as loaded:\n",
    "    time_cubature_seq=np.mean(loaded[\"time_gpu_cubature_std_seq\"],axis=1)\n",
    "\n",
    "with np.load(\"outputs/ell-runtime-output/TIME-GPU-unscented-std-par.npz\") as loaded:\n",
    "    time_unscented_par=np.mean(loaded[\"time_gpu_unscented_std_par\"],axis=1)\n",
    "\n",
    "with np.load(\"outputs/ell-runtime-output/TIME-GPU-unscented-std-seq.npz\") as loaded:\n",
    "    time_unscented_seq=np.mean(loaded[\"time_gpu_unscented_std_seq\"],axis=1)\n",
    "\n",
    "with np.load(\"outputs/ell-runtime-output/TIME-GPU-gh-std-par.npz\") as loaded:\n",
    "    time_gh_par=np.mean(loaded[\"time_gpu_gh_std_par\"],axis=1)\n",
    "\n",
    "with np.load(\"outputs/ell-runtime-output/TIME-GPU-gh-std-seq.npz\") as loaded:\n",
    "    time_gh_seq=np.mean(loaded[\"time_gpu_gh_std_seq\"],axis=1)"
   ],
   "metadata": {
    "collapsed": false,
    "pycharm": {
     "name": "#%%\n"
    }
   }
  },
  {
   "cell_type": "code",
   "execution_count": 5,
   "outputs": [
    {
     "data": {
      "text/plain": "<Figure size 1440x576 with 1 Axes>",
      "image/png": "[encoded data removed]"
     },
     "metadata": {
      "needs_background": "light"
     },
     "output_type": "display_data"
    }
   ],
   "source": [
    "plt.figure(figsize=(20,8))\n",
    "plt.plot(np.array(Ts), time_extended_par, \"*--\", label = \"par-extended\")\n",
    "plt.plot(np.array(Ts), time_extended_seq, \"o--\", label = \"seq-extended\")\n",
    "plt.plot(np.array(Ts), time_cubature_par, \"*--\", label = \"par-cubature\")\n",
    "plt.plot(np.array(Ts), time_cubature_seq, \"o--\", label = \"seq-cubature\")\n",
    "plt.plot(np.array(Ts), time_unscented_par, \"*--\", label = \"par-unscented\")\n",
    "plt.plot(np.array(Ts), time_unscented_seq, \"o--\", label = \"seq-unscented\")\n",
    "plt.plot(np.array(Ts), time_gh_par, \"*--\", label = \"par-GaussHermite\")\n",
    "plt.plot(np.array(Ts), time_gh_seq, \"o--\", label = \"seq-GaussHermite\")\n",
    "plt.title(\"GPU runtime of estimating the standard deviation of the first sensor\")\n",
    "plt.xlabel(\"number of data points\")\n",
    "plt.ylabel(\"GPU runtime (seconds)\")\n",
    "plt.grid()\n",
    "plt.legend();"
   ],
   "metadata": {
    "collapsed": false,
    "pycharm": {
     "name": "#%%\n"
    }
   }
  },
  {
   "cell_type": "code",
   "execution_count": 25,
   "outputs": [],
   "source": [
    "# plt.figure(figsize=(20,8))\n",
    "# plt.plot(np.array(Ts)[[0,1,8,10,11]], time1[[0,1,8,10,11]], \"*--\", label = \"par\")\n",
    "# plt.plot(np.array(Ts)[[0,1,8,10,11]], time2[[0,1,8,10,11]], \"o--\", label = \"seq\")\n",
    "# plt.grid()\n",
    "# plt.legend();"
   ],
   "metadata": {
    "collapsed": false,
    "pycharm": {
     "name": "#%%\n"
    }
   }
  },
  {
   "cell_type": "code",
   "execution_count": 48,
   "outputs": [],
   "source": [
    "with np.load(\"outputs/ell-runtime-output/sdR11-GPU-extended-std-par.npz\") as loaded:\n",
    "    sdR11_1=loaded[\"sd_gpu_extended_std_par\"]\n",
    "\n",
    "rmse_extended_par = np.mean(np.abs(1/np.array(sdR11_1).squeeze()-r_true)**2,axis=1)**0.5\n",
    "\n",
    "with np.load(\"outputs/ell-runtime-output/sdR11-GPU-extended-std-seq.npz\") as loaded:\n",
    "    sdR11_2=loaded[\"sd_gpu_extended_std_seq\"]\n",
    "\n",
    "rmse_extended_seq = np.mean(np.abs(1/np.array(sdR11_2).squeeze()-r_true)**2,axis=1)**0.5\n",
    "\n",
    "with np.load(\"outputs/ell-runtime-output/sdR11-GPU-cubature-std-seq.npz\") as loaded:\n",
    "    sdR11_6=loaded[\"sd_gpu_cubature_std_seq\"]\n",
    "\n",
    "rmse_cubature_seq = np.mean(np.abs(1/np.array(sdR11_6).squeeze()-r_true)**2,axis=1)**0.5\n",
    "\n",
    "with np.load(\"outputs/ell-runtime-output/sdR11-GPU-cubature-std-par.npz\") as loaded:\n",
    "    sdR11_3=loaded[\"sd_gpu_cubature_std_par\"]\n",
    "\n",
    "rmse_cubature_par = np.mean(np.abs(1/np.array(sdR11_3).squeeze()-r_true)**2,axis=1)**0.5\n",
    "\n",
    "with np.load(\"outputs/ell-runtime-output/sdR11-GPU-unscented-std-par.npz\") as loaded:\n",
    "    sdR11_4=loaded[\"sd_gpu_unscented_std_par\"]\n",
    "\n",
    "rmse_unscented_par = np.mean(np.abs(1/np.array(sdR11_4).squeeze()-r_true)**2,axis=1)**0.5\n",
    "\n",
    "with np.load(\"outputs/ell-runtime-output/sdR11-GPU-gh-std-par.npz\") as loaded:\n",
    "    sdR11_5=loaded[\"sd_gpu_gh_std_par\"]\n",
    "\n",
    "rmse_gh_par = np.mean(np.abs(1/np.array(sdR11_5).squeeze()-r_true)**2,axis=1)**0.5"
   ],
   "metadata": {
    "collapsed": false,
    "pycharm": {
     "name": "#%%\n"
    }
   }
  },
  {
   "cell_type": "code",
   "execution_count": 49,
   "outputs": [
    {
     "data": {
      "text/plain": "<Figure size 1440x576 with 1 Axes>",
      "image/png": "[encoded data removed]"
     },
     "metadata": {
      "needs_background": "light"
     },
     "output_type": "display_data"
    }
   ],
   "source": [
    "plt.figure(figsize=(20,8))\n",
    "plt.plot(np.array(Ts), rmse_extended_par, \"*--\", label = \"par-extended\")\n",
    "plt.plot(np.array(Ts), rmse_cubature_par, \"o--\", label = \"par-cubature\")\n",
    "plt.plot(np.array(Ts), rmse_unscented_par, \"o--\", label = \"par-unscented\")\n",
    "plt.plot(np.array(Ts), rmse_gh_par, \"o--\", label = \"par-Gauss-Hermite\")\n",
    "plt.title(\"RMSE of the standard deviation of the first sensor\")\n",
    "plt.xlabel(\"number of data points\")\n",
    "plt.ylabel(\"RMSE\")\n",
    "plt.grid()\n",
    "plt.legend();"
   ],
   "metadata": {
    "collapsed": false,
    "pycharm": {
     "name": "#%%\n"
    }
   }
  },
  {
   "cell_type": "code",
   "execution_count": 6,
   "outputs": [],
   "source": [
    "data_csv_time = np.stack([Ts,\n",
    "                 time_extended_par,\n",
    "                 time_extended_seq,\n",
    "                 time_cubature_par,\n",
    "                 time_cubature_seq,\n",
    "                 time_gh_par,\n",
    "                 time_gh_seq],\n",
    "                axis=1)\n",
    "\n",
    "columns = [\"time_steps\",\n",
    "           \"time_extended_par\",\n",
    "           \"time_extended_seq\",\n",
    "           \"time_cubature_par\",\n",
    "           \"time_cubature_seq\",\n",
    "           \"time_gh_par\",\n",
    "           \"time_gh_seq\"]\n",
    "\n",
    "df = pd.DataFrame(data=data_csv_time, columns=columns)\n",
    "df.to_csv(\"outputs/ell-runtime-output/GPU_sdR11_runtime.csv\")"
   ],
   "metadata": {
    "collapsed": false,
    "pycharm": {
     "name": "#%%\n"
    }
   }
  },
  {
   "cell_type": "code",
   "execution_count": 50,
   "outputs": [],
   "source": [
    "data_csv_sdR11 = np.stack([Ts,\n",
    "                 rmse_extended_par,\n",
    "                 rmse_cubature_par,\n",
    "                 rmse_unscented_par,\n",
    "                 rmse_gh_par],\n",
    "                axis=1)\n",
    "\n",
    "columns_sdR11 = [\"time_steps\",\n",
    "           \"rmse_extended_par\",\n",
    "           \"rmse_cubature_par\",\n",
    "           \"rmse_unscented_par\",\n",
    "           \"rmse_gh_par\"]\n",
    "\n",
    "df_rmse = pd.DataFrame(data=data_csv_sdR11, columns=columns_sdR11)\n",
    "# df_rmse.to_csv(\"outputs/ell-runtime-output/GPU_sdR11_rmse.csv\")"
   ],
   "metadata": {
    "collapsed": false,
    "pycharm": {
     "name": "#%%\n"
    }
   }
  }
 ],
 "metadata": {
  "kernelspec": {
   "display_name": "Python 3",
   "language": "python",
   "name": "python3"
  },
  "language_info": {
   "codemirror_mode": {
    "name": "ipython",
    "version": 3
   },
   "file_extension": ".py",
   "mimetype": "text/x-python",
   "name": "python",
   "nbconvert_exporter": "python",
   "pygments_lexer": "ipython3",
   "version": "3.8.8"
  }
 },
 "nbformat": 4,
 "nbformat_minor": 1
}