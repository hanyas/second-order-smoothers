{
 "cells": [
  {
   "cell_type": "code",
   "execution_count": 1,
   "metadata": {},
   "outputs": [],
   "source": [
    "import sys\n",
    "sys.path.append('..//')\n",
    "\n",
    "import jax\n",
    "import pickle\n",
    "from jax import jit\n",
    "import jax.numpy as jnp\n",
    "\n",
    "jax.config.update(\"jax_enable_x64\", False)\n",
    "jax.config.update('jax_platform_name', 'cpu')\n",
    "\n",
    "from parsmooth._base import MVNStandard, FunctionalModel\n",
    "from parsmooth.linearization import extended, second_order\n",
    "from bearing_data import get_data, make_parameters\n",
    "from parsmooth.sequential._ls_newton import _iterated_recursive_newton_smoother\n",
    "from parsmooth.sequential._ls_newton import _iterated_batch_newton_smoother\n"
   ]
  },
  {
   "cell_type": "code",
   "execution_count": 2,
   "metadata": {
    "scrolled": true
   },
   "outputs": [],
   "source": [
    "s1 = jnp.array([-1.5, 0.5])  # First sensor location\n",
    "s2 = jnp.array([1., 1.])  # Second sensor location\n",
    "r = 0.5  # Observation noise (stddev)\n",
    "x0 = jnp.array([0.1, 0.2, 1, 0])  # initial true location\n",
    "dt = 0.01  # discretization time step\n",
    "qc = 0.01  # discretization noise\n",
    "qw = 0.1  # discretization noise\n",
    "\n",
    "Q, R, observation_function, transition_function, _, _ = make_parameters(qc, qw, r, dt, s1, s2)\n",
    "\n",
    "m0 = jnp.array([-4., -1., 2., 7., 3.])\n",
    "P0 = jnp.eye(5)\n",
    "\n",
    "init = MVNStandard(m0, P0)\n",
    "\n",
    "transition_model = FunctionalModel(transition_function, MVNStandard(jnp.zeros((5,)), Q))\n",
    "observation_model = FunctionalModel(observation_function, MVNStandard(jnp.zeros((2,)), R))"
   ]
  },
  {
   "cell_type": "code",
   "execution_count": 3,
   "outputs": [],
   "source": [
    "n_run = 20\n",
    "Ts = [100, 200, 300, 400, 500, 1000, 1500, 2000, 2500, 3000, 3500, 4000, 4500, 5000, 5500, 6000, 6500, 7000, 7500, 8000]\n"
   ],
   "metadata": {
    "collapsed": false
   }
  },
  {
   "cell_type": "code",
   "execution_count": 4,
   "outputs": [],
   "source": [
    "# Data_measurements = []\n",
    "# for t, T in enumerate(Ts):\n",
    "#     data = []\n",
    "#     for i in range(n_run):\n",
    "#         _, true_states, ys = get_data(x0, dt, r, T, s1, s2)\n",
    "#         data.append({'ys': ys})\n",
    "#     Data_measurements.append(data)\n",
    "#\n",
    "# with  open(\"eusipco_outputs/data_measurements.pkl\", \"wb\") as open_file:\n",
    "#     pickle.dump(Data_measurements, open_file)"
   ],
   "metadata": {
    "collapsed": false
   }
  },
  {
   "cell_type": "code",
   "execution_count": 5,
   "outputs": [],
   "source": [
    "with open(\"eusipco_outputs/data_measurements.pkl\", \"rb\") as open_file:\n",
    "    Data_measurements = pickle.load(open_file)"
   ],
   "metadata": {
    "collapsed": false
   }
  },
  {
   "cell_type": "code",
   "execution_count": 6,
   "outputs": [],
   "source": [
    "import numpy as np\n",
    "import time\n",
    "def func(method, lengths, data, n_runs=n_run, n_iter=30, mth='newton_recursive'):\n",
    "    res_mean = []\n",
    "    res_median = []\n",
    "    for t, T in enumerate(lengths):\n",
    "        print(f\"Length {t+1} out of {len(lengths)}\")\n",
    "        run_times = []\n",
    "        initial_states =  MVNStandard(jnp.repeat(jnp.array([[-1., -1., 6., 4., 2.]]),T + 1, axis=0),\n",
    "                                                                 jnp.repeat(jnp.eye(5).reshape(1, 5, 5), T + 1, axis=0))\n",
    "        for i in range(n_runs):\n",
    "            ys = data[t][i]['ys']\n",
    "            args = ys, initial_states, n_iter\n",
    "\n",
    "\n",
    "            tic = time.time()\n",
    "            method_res = method(*args)\n",
    "            toc = time.time()\n",
    "            run_times.append(toc - tic)\n",
    "            print(f\"run {i+1} out of {n_runs}\", end=\"\\r\")\n",
    "        res_mean.append(np.mean(run_times))\n",
    "        res_median.append(np.median(run_times))\n",
    "        np.savez(\"eusipco_outputs/TIME-CPU-\"+mth+\"-\"+str(t), time = np.array(run_times))\n",
    "    print()\n",
    "\n",
    "    return np.array(res_mean), np.array(res_median)\n"
   ],
   "metadata": {
    "collapsed": false
   }
  },
  {
   "cell_type": "code",
   "execution_count": 7,
   "outputs": [],
   "source": [
    "# Newton Recursive Iterated Smoother\n",
    "def iterated_recursive_newton_smoother(observations, nominal_trajectory, iteration):\n",
    "    newton_smoothed_recursive = _iterated_recursive_newton_smoother(observations, init,transition_model,\n",
    "                                                           observation_model,second_order, extended,nominal_trajectory\n",
    "                                                           ,n_iter=30)[0]\n",
    "    return newton_smoothed_recursive\n",
    "\n",
    "# Gauss-Newton Batch Iterated Smoother?\n",
    "def  iterated_batch_newton_smoother(observations, nominal_trajectory, iteration):\n",
    "    newton_smoothed_batch = _iterated_batch_newton_smoother(observations, init,\n",
    "                                                      transition_model, observation_model,\n",
    "                                                      second_order, nominal_trajectory.mean,\n",
    "                                                      n_iter=30)[0]\n",
    "    return newton_smoothed_batch"
   ],
   "metadata": {
    "collapsed": false
   }
  },
  {
   "cell_type": "code",
   "execution_count": 8,
   "metadata": {},
   "outputs": [],
   "source": [
    "cpu_recursive = jit(iterated_recursive_newton_smoother, backend=\"cpu\")\n",
    "cpu_batch = jit(iterated_batch_newton_smoother, backend=\"cpu\")"
   ]
  },
  {
   "cell_type": "code",
   "execution_count": 9,
   "metadata": {},
   "outputs": [
    {
     "name": "stdout",
     "output_type": "stream",
     "text": [
      "Length 1 out of 20\n",
      "Length 2 out of 20\n",
      "Length 3 out of 20\n",
      "Length 4 out of 20\n",
      "Length 5 out of 20\n",
      "Length 6 out of 20\n",
      "Length 7 out of 20\n",
      "Length 8 out of 20\n",
      "Length 9 out of 20\n",
      "Length 10 out of 20\n",
      "Length 11 out of 20\n",
      "Length 12 out of 20\n",
      "Length 13 out of 20\n",
      "Length 14 out of 20\n",
      "Length 15 out of 20\n",
      "Length 16 out of 20\n",
      "Length 17 out of 20\n",
      "Length 18 out of 20\n",
      "Length 19 out of 20\n",
      "Length 20 out of 20\n",
      "run 20 out of 20\r\n"
     ]
    }
   ],
   "source": [
    "cpu_recursive_runtime = func(cpu_recursive, Ts, Data_measurements, mth='newton_recursive')\n",
    "jnp.savez(\"eusipco_outputs/recursive_runtime15\",\n",
    "          cpu_recursive_runtime = cpu_recursive_runtime)\n"
   ]
  },
  {
   "cell_type": "code",
   "execution_count": 10,
   "metadata": {},
   "outputs": [
    {
     "name": "stdout",
     "output_type": "stream",
     "text": [
      "Length 1 out of 20\n",
      "Length 2 out of 20\n",
      "Length 3 out of 20\n",
      "Length 4 out of 20\n",
      "Length 5 out of 20\n",
      "Length 6 out of 20\n",
      "Length 7 out of 20\n",
      "Length 8 out of 20\n",
      "Length 9 out of 20\n",
      "run 5 out of 20\r"
     ]
    },
    {
     "ename": "KeyboardInterrupt",
     "evalue": "",
     "output_type": "error",
     "traceback": [
      "\u001B[0;31m---------------------------------------------------------------------------\u001B[0m",
      "\u001B[0;31mKeyboardInterrupt\u001B[0m                         Traceback (most recent call last)",
      "Cell \u001B[0;32mIn[10], line 1\u001B[0m\n\u001B[0;32m----> 1\u001B[0m cpu_batch_runtime \u001B[38;5;241m=\u001B[39m \u001B[43mfunc\u001B[49m\u001B[43m(\u001B[49m\u001B[43mcpu_batch\u001B[49m\u001B[43m,\u001B[49m\u001B[43m \u001B[49m\u001B[43mTs\u001B[49m\u001B[43m,\u001B[49m\u001B[43m \u001B[49m\u001B[43mData_measurements\u001B[49m\u001B[43m,\u001B[49m\u001B[43m \u001B[49m\u001B[43mmth\u001B[49m\u001B[38;5;241;43m=\u001B[39;49m\u001B[38;5;124;43m'\u001B[39;49m\u001B[38;5;124;43mnewton_batch\u001B[39;49m\u001B[38;5;124;43m'\u001B[39;49m\u001B[43m)\u001B[49m\n\u001B[1;32m      2\u001B[0m jnp\u001B[38;5;241m.\u001B[39msavez(\u001B[38;5;124m\"\u001B[39m\u001B[38;5;124meusipco_outputs/batch_runtime15\u001B[39m\u001B[38;5;124m\"\u001B[39m,\n\u001B[1;32m      3\u001B[0m           cpu_batch_runtime \u001B[38;5;241m=\u001B[39m cpu_batch_runtime)\n",
      "Cell \u001B[0;32mIn[6], line 17\u001B[0m, in \u001B[0;36mfunc\u001B[0;34m(method, lengths, data, n_runs, n_iter, mth)\u001B[0m\n\u001B[1;32m     13\u001B[0m args \u001B[38;5;241m=\u001B[39m ys, initial_states, n_iter\n\u001B[1;32m     16\u001B[0m tic \u001B[38;5;241m=\u001B[39m time\u001B[38;5;241m.\u001B[39mtime()\n\u001B[0;32m---> 17\u001B[0m method_res \u001B[38;5;241m=\u001B[39m \u001B[43mmethod\u001B[49m\u001B[43m(\u001B[49m\u001B[38;5;241;43m*\u001B[39;49m\u001B[43margs\u001B[49m\u001B[43m)\u001B[49m\n\u001B[1;32m     18\u001B[0m toc \u001B[38;5;241m=\u001B[39m time\u001B[38;5;241m.\u001B[39mtime()\n\u001B[1;32m     19\u001B[0m run_times\u001B[38;5;241m.\u001B[39mappend(toc \u001B[38;5;241m-\u001B[39m tic)\n",
      "\u001B[0;31mKeyboardInterrupt\u001B[0m: "
     ]
    }
   ],
   "source": [
    "cpu_batch_runtime = func(cpu_batch, Ts, Data_measurements, mth='newton_batch')\n",
    "jnp.savez(\"eusipco_outputs/batch_runtime15\",\n",
    "          cpu_batch_runtime = cpu_batch_runtime)"
   ]
  },
  {
   "cell_type": "code",
   "execution_count": null,
   "outputs": [],
   "source": [],
   "metadata": {
    "collapsed": false
   }
  },
  {
   "cell_type": "code",
   "execution_count": 13,
   "outputs": [],
   "source": [
    "Ts_slice = [100, 200, 300, 400, 500, 1000, 1500, 2000]#, 2500, 3000, 3500, 4000, 4500, 5000, 5500, 6000, 6500, 7000, 7500, 8000]\n",
    "mth='newton_batch'\n",
    "batch_time_slices = []\n",
    "for t in range(len(Ts_slice)):\n",
    "    with np.load(\"eusipco_outputs/TIME-CPU-\"+mth+\"-\"+str(t)+\".npz\") as loaded:\n",
    "        batch_time_slices.append(loaded[\"time\"])\n",
    "\n",
    "# np.savez(\"new_outputs/ell_float32_extended_sqrt_runtime15\",\n",
    "#           rts_gpu_IEKS_sqrt_par_ell = rts_gpu_IEKS_sqrt_par_ell)"
   ],
   "metadata": {
    "collapsed": false
   }
  },
  {
   "cell_type": "code",
   "execution_count": 28,
   "outputs": [
    {
     "data": {
      "text/plain": "<Figure size 640x480 with 1 Axes>",
      "image/png": "[encoded data removed]"
     },
     "metadata": {},
     "output_type": "display_data"
    }
   ],
   "source": [
    "from matplotlib import pyplot as plt\n",
    "\n",
    "plt.plot(Ts_slice, np.mean(batch_time_slices, axis=1),'--*', label=\"batch_runtime\")\n",
    "plt.plot(Ts, cpu_recursive_runtime[0],'--*', label=\"recursive_runtime\")\n",
    "plt.legend();"
   ],
   "metadata": {
    "collapsed": false
   }
  },
  {
   "cell_type": "code",
   "execution_count": 21,
   "outputs": [
    {
     "data": {
      "text/plain": "array([  1.26248115,   3.85298748,   7.58908318,  14.81650671,\n        14.6597852 ,  30.19471211,  63.83150755, 118.83212839])"
     },
     "execution_count": 21,
     "metadata": {},
     "output_type": "execute_result"
    }
   ],
   "source": [
    "np.mean(batch_time_slices, axis=1)"
   ],
   "metadata": {
    "collapsed": false
   }
  },
  {
   "cell_type": "code",
   "execution_count": 27,
   "outputs": [
    {
     "data": {
      "text/plain": "Array(1.2624811, dtype=float32)"
     },
     "execution_count": 27,
     "metadata": {},
     "output_type": "execute_result"
    }
   ],
   "source": [
    "jnp.mean(jnp.array(batch_time_slices)[0])"
   ],
   "metadata": {
    "collapsed": false
   }
  },
  {
   "cell_type": "code",
   "execution_count": null,
   "outputs": [],
   "source": [
    "import pandas as pd\n",
    "\n",
    "data_runtime_batch_seq = np.stack([Ts,\n",
    "                                   cpu_batch_runtime[0],\n",
    "                                   cpu_recursive_runtime[0]],\n",
    "                                  axis=1)\n",
    "\n",
    "columns = [\"times\",\n",
    "          \"cpu_batch_runtime\",\n",
    "          \"cpu_recursive_runtime\"]\n",
    "\n",
    "df1 = pd.DataFrame(data=data_runtime_batch_seq, columns=columns)\n",
    "df1.to_csv(\"eusipco_outputs/batch_seq_runtime.csv\")"
   ],
   "metadata": {
    "collapsed": false
   }
  },
  {
   "cell_type": "markdown",
   "metadata": {},
   "source": []
  }
 ],
 "metadata": {
  "kernelspec": {
   "display_name": "Python 3 (ipykernel)",
   "language": "python",
   "name": "python3"
  },
  "language_info": {
   "codemirror_mode": {
    "name": "ipython",
    "version": 3
   },
   "file_extension": ".py",
   "mimetype": "text/x-python",
   "name": "python",
   "nbconvert_exporter": "python",
   "pygments_lexer": "ipython3",
   "version": "3.8.8"
  }
 },
 "nbformat": 4,
 "nbformat_minor": 1
}
