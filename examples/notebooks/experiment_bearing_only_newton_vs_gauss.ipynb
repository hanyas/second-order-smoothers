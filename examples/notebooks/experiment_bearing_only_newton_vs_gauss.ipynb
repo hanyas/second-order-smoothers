{
 "cells": [
  {
   "cell_type": "code",
   "execution_count": null,
   "metadata": {},
   "outputs": [],
   "source": [
    "import sys\n",
    "sys.path.append('..//')\n",
    "\n",
    "import jax\n",
    "import jax.numpy as jnp\n",
    "\n",
    "jax.config.update(\"jax_enable_x64\", True)\n",
    "jax.config.update('jax_platform_name', 'cpu')\n",
    "\n",
    "from newton_smoothers.base import MVNStandard, FunctionalModel\n",
    "from newton_smoothers.approximation import extended, quadratize\n",
    "\n",
    "from newton_smoothers import trust_region_iterated_recursive_newton_smoother\n",
    "from newton_smoothers import trust_region_iterated_recursive_gauss_newton_smoother\n",
    "\n",
    "from bearing_data import get_data, make_parameters"
   ]
  },
  {
   "cell_type": "code",
   "execution_count": null,
   "metadata": {
    "scrolled": true
   },
   "outputs": [],
   "source": [
    "%%capture\n",
    "\n",
    "s1 = jnp.array([-1.5, 0.5])  # First sensor location\n",
    "s2 = jnp.array([1., 1.])  # Second sensor location\n",
    "r = 0.5  # Observation noise (stddev)\n",
    "x0 = jnp.array([0.1, 0.2, 1, 0])  # initial true location\n",
    "\n",
    "dt = 0.01  # discretization time step\n",
    "qc = 0.01  # discretization noise\n",
    "qw = 0.1  # discretization noise\n",
    "\n",
    "T = 500\n",
    "nx, ny = 5, 2\n",
    "\n",
    "_, true_states, observations = get_data(x0, dt, r, T, s1, s2, random_state=7)\n",
    "Q, R, trans_fcn, obsrv_fcn, _, _ = make_parameters(qc, qw, r, dt, s1, s2)\n",
    "\n",
    "trans_mdl = FunctionalModel(trans_fcn, MVNStandard(jnp.zeros((nx,)), Q))\n",
    "obsrv_mdl = FunctionalModel(obsrv_fcn, MVNStandard(jnp.zeros((ny,)), R))\n",
    "\n",
    "init_dist = MVNStandard(\n",
    "    mean=jnp.array([-1., -1., 0., 0., 0.]),\n",
    "    cov=jnp.eye(nx)\n",
    ")\n",
    "\n",
    "init_nominal = MVNStandard(\n",
    "    mean=jnp.zeros((T + 1, nx)),\n",
    "    cov=jnp.repeat(jnp.eye(nx).reshape(1, nx, nx), T + 1, axis=0),\n",
    ")\n",
    "init_nominal.mean.at[0].set(init_dist.mean)\n",
    "init_nominal.cov.at[0].set(init_dist.cov)"
   ]
  },
  {
   "cell_type": "code",
   "execution_count": null,
   "outputs": [],
   "source": [
    "# Newton Recursive Iterated Smoother\n",
    "recursive_newton_smoothed, recursive_newton_costs =\\\n",
    "    trust_region_iterated_recursive_newton_smoother(init_nominal,\n",
    "                                                    observations,\n",
    "                                                    init_dist,\n",
    "                                                    trans_mdl,\n",
    "                                                    obsrv_mdl,\n",
    "                                                    quadratize,\n",
    "                                                    nb_iter=25)\n",
    "\n",
    "# Gauss-Newton recursive Iterated Smoother\n",
    "recursive_gauss_newton_smoothed, recursive_gauss_newton_costs =\\\n",
    "    trust_region_iterated_recursive_gauss_newton_smoother(init_nominal,\n",
    "                                                          observations,\n",
    "                                                          init_dist,\n",
    "                                                          trans_mdl,\n",
    "                                                          obsrv_mdl,\n",
    "                                                          extended,\n",
    "                                                          nb_iter=25)"
   ],
   "metadata": {
    "collapsed": false
   }
  },
  {
   "cell_type": "code",
   "execution_count": null,
   "outputs": [],
   "source": [
    "from matplotlib import pyplot as plt\n",
    "plt.plot(recursive_newton_costs, \"*--\", label=\"newton\")\n",
    "plt.plot(recursive_gauss_newton_costs, ':', label=\"gauss-newton\")\n",
    "plt.yscale('symlog', linthresh=0.01)\n",
    "plt.legend()\n",
    "plt.grid()\n",
    "plt.ylabel(\"log posterior\")\n",
    "plt.xlabel(\"iteration\")"
   ],
   "metadata": {
    "collapsed": false
   }
  }
 ],
 "metadata": {
  "kernelspec": {
   "display_name": "Python 3 (ipykernel)",
   "language": "python",
   "name": "python3"
  },
  "language_info": {
   "codemirror_mode": {
    "name": "ipython",
    "version": 3
   },
   "file_extension": ".py",
   "mimetype": "text/x-python",
   "name": "python",
   "nbconvert_exporter": "python",
   "pygments_lexer": "ipython3",
   "version": "3.8.8"
  }
 },
 "nbformat": 4,
 "nbformat_minor": 1
}
