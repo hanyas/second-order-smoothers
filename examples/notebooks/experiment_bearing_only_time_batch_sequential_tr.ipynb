{
 "cells": [
  {
   "cell_type": "code",
   "execution_count": null,
   "metadata": {},
   "outputs": [],
   "source": [
    "import sys\n",
    "sys.path.append('..//')\n",
    "\n",
    "import jax\n",
    "import pickle\n",
    "from jax import jit\n",
    "import jax.numpy as jnp\n",
    "\n",
    "jax.config.update(\"jax_enable_x64\", True)\n",
    "jax.config.update('jax_platform_name', 'cpu')\n",
    "\n",
    "from newton_smoothers.base import MVNStandard, FunctionalModel\n",
    "from newton_smoothers.approximation import quadratize\n",
    "\n",
    "from newton_smoothers import trust_region_iterated_recursive_newton_smoother as tr_recur_newton\n",
    "from newton_smoothers import trust_region_iterated_batch_newton_smoother as tr_batch_newton\n",
    "\n",
    "from bearing_data import make_parameters"
   ]
  },
  {
   "cell_type": "code",
   "execution_count": null,
   "metadata": {
    "scrolled": true
   },
   "outputs": [],
   "source": [
    "s1 = jnp.array([-1.5, 0.5])  # First sensor location\n",
    "s2 = jnp.array([1., 1.])  # Second sensor location\n",
    "r = 0.5  # Observation noise (stddev)\n",
    "x0 = jnp.array([0.1, 0.2, 1, 0])  # initial true location\n",
    "\n",
    "dt = 0.01  # discretization time step\n",
    "qc = 0.01  # discretization noise\n",
    "qw = 0.1  # discretization noise\n",
    "\n",
    "nx, ny = 5, 2\n",
    "\n",
    "Q, R, trans_fcn, obsrv_fcn, _, _ = make_parameters(qc, qw, r, dt, s1, s2)\n",
    "\n",
    "trans_mdl = FunctionalModel(trans_fcn, MVNStandard(jnp.zeros((nx,)), Q))\n",
    "obsrv_mdl = FunctionalModel(obsrv_fcn, MVNStandard(jnp.zeros((ny,)), R))\n",
    "\n",
    "init_dist = MVNStandard(\n",
    "    mean=jnp.array([-1., -1., 0., 0., 0.]),\n",
    "    cov=jnp.eye(nx)\n",
    ")"
   ]
  },
  {
   "cell_type": "code",
   "execution_count": null,
   "outputs": [],
   "source": [
    "Ts = [100, 200, 300, 400, 500, 1000, 1500]"
   ],
   "metadata": {
    "collapsed": false
   }
  },
  {
   "cell_type": "code",
   "execution_count": null,
   "outputs": [],
   "source": [
    "with open(\"outputs/data_measurements.pkl\", \"rb\") as open_file:\n",
    "    data_measurements = pickle.load(open_file)"
   ],
   "metadata": {
    "collapsed": false
   }
  },
  {
   "cell_type": "code",
   "execution_count": null,
   "outputs": [],
   "source": [
    "import numpy as np\n",
    "import time\n",
    "\n",
    "def func(method, lengths, data, nb_runs=20, nb_iter=30, label='ls_newton_recursive'):\n",
    "    res_mean = []\n",
    "    res_median = []\n",
    "    for t, T in enumerate(lengths):\n",
    "        print(f\"Length {t+1} out of {len(lengths)}\")\n",
    "        run_times = []\n",
    "        init_nominal = MVNStandard(jnp.repeat(jnp.array([[-1., -1., 6., 4., 2.]]),T + 1, axis=0),\n",
    "                                   jnp.repeat(jnp.eye(5).reshape(1, 5, 5), T + 1, axis=0))\n",
    "        for i in range(nb_runs):\n",
    "            ys = data[t][i]['ys']\n",
    "            args = ys, init_nominal, nb_iter\n",
    "\n",
    "            tic = time.time()\n",
    "            _ = method(*args)\n",
    "            toc = time.time()\n",
    "            run_times.append(toc - tic)\n",
    "            print(f\"run {i+1} out of {nb_runs}\", end=\"\\r\")\n",
    "        res_mean.append(np.mean(run_times))\n",
    "        res_median.append(np.median(run_times))\n",
    "        # np.savez(\"outputs/TIME-CPU-\"+label+\"-\"+str(t+1), time = np.array(run_times))\n",
    "    print()\n",
    "\n",
    "    return np.array(res_mean), np.array(res_median)"
   ],
   "metadata": {
    "collapsed": false
   }
  },
  {
   "cell_type": "code",
   "execution_count": null,
   "outputs": [],
   "source": [
    "# Newton Recursive Iterated Smoother\n",
    "def iterated_recursive_newton_smoother(observations, nominal_trajectory, iteration):\n",
    "    return tr_recur_newton(nominal_trajectory,\n",
    "                           observations,\n",
    "                           init_dist,\n",
    "                           trans_mdl,\n",
    "                           obsrv_mdl,\n",
    "                           quadratize,\n",
    "                           nb_iter=30)[0]\n",
    "\n",
    "#  Newton Batch Iterated Smoother\n",
    "def  iterated_batch_newton_smoother(observations, nominal_trajectory, iteration):\n",
    "    return tr_batch_newton(nominal_trajectory.mean,\n",
    "                           observations,\n",
    "                           init_dist,\n",
    "                           trans_mdl,\n",
    "                           obsrv_mdl,\n",
    "                           nb_iter=30)[0]"
   ],
   "metadata": {
    "collapsed": false
   }
  },
  {
   "cell_type": "code",
   "execution_count": null,
   "metadata": {},
   "outputs": [],
   "source": [
    "cpu_recursive = jit(iterated_recursive_newton_smoother, backend=\"cpu\")\n",
    "cpu_batch = jit(iterated_batch_newton_smoother, backend=\"cpu\")"
   ]
  },
  {
   "cell_type": "code",
   "execution_count": null,
   "metadata": {},
   "outputs": [],
   "source": [
    "cpu_recursive_runtime = func(cpu_recursive, Ts, data_measurements, label='tr_newton_recursive')\n",
    "# jnp.savez(\"outputs/recursive_runtime15\", cpu_tr_recursive_runtime = cpu_recursive_runtime)"
   ]
  },
  {
   "cell_type": "code",
   "execution_count": null,
   "metadata": {},
   "outputs": [],
   "source": [
    "cpu_batch_runtime = func(cpu_batch, Ts, data_measurements, label='tr_newton_batch')\n",
    "# jnp.savez(\"outputs/batch_runtime15\", cpu_tr_batch_runtime = cpu_batch_runtime)"
   ]
  },
  {
   "cell_type": "code",
   "execution_count": null,
   "outputs": [],
   "source": [
    "from matplotlib import pyplot as plt\n",
    "\n",
    "plt.loglog(Ts, cpu_batch_runtime[0],'--*', label=\"batch_runtime\")\n",
    "plt.loglog(Ts, cpu_recursive_runtime[0],'--*', label=\"recursive_runtime\")\n",
    "plt.grid(True, which=\"both\")\n",
    "plt.legend()\n",
    "plt.title(\"Iterated trust region newton\");"
   ],
   "metadata": {
    "collapsed": false
   }
  },
  {
   "cell_type": "code",
   "execution_count": null,
   "outputs": [],
   "source": [
    "import pandas as pd\n",
    "\n",
    "data_runtime_batch_seq = np.stack([Ts,\n",
    "                                   cpu_batch_runtime[0],\n",
    "                                   cpu_recursive_runtime[0]\n",
    "                                   ],\n",
    "                                   axis=1)\n",
    "columns = [\"times\",\n",
    "           \"cpu_tr_batch_runtime\",\n",
    "           \"cpu_tr_recursive_runtime\"]\n",
    "\n",
    "df1 = pd.DataFrame(data=data_runtime_batch_seq, columns=columns)\n",
    "# df1.to_csv(\"outputs/tr_batch_seq_runtime.csv\")"
   ],
   "metadata": {
    "collapsed": false
   }
  },
  {
   "cell_type": "markdown",
   "metadata": {},
   "source": []
  }
 ],
 "metadata": {
  "kernelspec": {
   "display_name": "Python 3 (ipykernel)",
   "language": "python",
   "name": "python3"
  },
  "language_info": {
   "codemirror_mode": {
    "name": "ipython",
    "version": 3
   },
   "file_extension": ".py",
   "mimetype": "text/x-python",
   "name": "python",
   "nbconvert_exporter": "python",
   "pygments_lexer": "ipython3",
   "version": "3.8.8"
  }
 },
 "nbformat": 4,
 "nbformat_minor": 1
}
